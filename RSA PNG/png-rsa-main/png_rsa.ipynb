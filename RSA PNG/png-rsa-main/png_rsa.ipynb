{
 "cells": [
  {
   "cell_type": "markdown",
   "id": "2866dcd8",
   "metadata": {},
   "source": [
    "#### Imports"
   ]
  },
  {
   "cell_type": "code",
   "execution_count": 1,
   "id": "5caed0c6",
   "metadata": {},
   "outputs": [],
   "source": [
    "import os\n",
    "import zlib\n",
    "import time\n",
    "from IPython.display import display, HTML\n",
    "from Cryptodome.PublicKey import RSA as PyCryptoRSA\n",
    "from Cryptodome.Cipher import PKCS1_OAEP\n",
    "from classes.rsa import RSA \n",
    "from classes.png import PNG \n",
    "from Crypto.PublicKey import RSA as CryptoRSA\n",
    "from Crypto.Cipher import PKCS1_OAEP\n"
   ]
  },
  {
   "cell_type": "markdown",
   "id": "f282b648",
   "metadata": {},
   "source": [
    "#### Helpers"
   ]
  },
  {
   "cell_type": "code",
   "execution_count": 2,
   "id": "e5203ee4",
   "metadata": {},
   "outputs": [],
   "source": [
    "def visualiseResults(img_path, encrypt_img_path, decrypt_img_path, keysize, title=None):\n",
    "    if title is not None:\n",
    "        title += ' '\n",
    "    else:\n",
    "        title = ''\n",
    "    html = f\"\"\"\n",
    "    <style>\n",
    "        table {{\n",
    "            margin: auto;\n",
    "        }}\n",
    "        th {{\n",
    "            text-align: center;\n",
    "            padding-bottom: 10px;\n",
    "            font-size: 16px;\n",
    "        }}\n",
    "        td {{\n",
    "            text-align: center;\n",
    "            border: 1px inset grey;\n",
    "        }}\n",
    "        p {{\n",
    "            text-align: center;\n",
    "        }}\n",
    "    </style>\n",
    "    <p>{title}Keysize: {keysize}</p>\n",
    "    <table>\n",
    "    <tr>\n",
    "        <th>Original</th>\n",
    "        <th>Encrypted</th>\n",
    "        <th>Decrypted</th>\n",
    "    </tr>\n",
    "    <tr>\n",
    "        <td><img src=\"{img_path}\" width=\"300\"></td>\n",
    "        <td><img src=\"{encrypt_img_path}\" width=\"300\"></td>\n",
    "        <td><img src=\"{decrypt_img_path}\" width=\"300\"></td>\n",
    "    </tr>\n",
    "    </table>\n",
    "    \"\"\"\n",
    "    display(HTML(html))"
   ]
  },
  {
   "cell_type": "markdown",
   "id": "ed1168f5",
   "metadata": {},
   "source": [
    "#### Keypair generation"
   ]
  },
  {
   "cell_type": "code",
   "execution_count": 3,
   "id": "b6642fce",
   "metadata": {},
   "outputs": [
    {
     "name": "stdout",
     "output_type": "stream",
     "text": [
<<<<<<< HEAD
      "((515880984304879278894855428807, 65537), (515880984304879278894855428807, 132471139735825397355274766993))\n"
=======
      "((5273555387836461552219401217288552149236994577762950306460482152502358481619, 65537), (5273555387836461552219401217288552149236994577762950306460482152502358481619, 5041247616582301848521377027680970934528572534343357297953558168635516800273))\n"
>>>>>>> bf2b962 (Zmiana klucza)
     ]
    }
   ],
   "source": [
    "keysize = 256\n",
    "keypair = RSA.generateKeypair(keysize)\n",
    "print(keypair)"
   ]
  },
  {
   "cell_type": "markdown",
   "id": "5cf38660",
   "metadata": {},
   "source": [
    "#### Path to image"
   ]
  },
  {
   "cell_type": "code",
   "execution_count": 4,
   "id": "bf29887f",
   "metadata": {},
   "outputs": [],
   "source": [
<<<<<<< HEAD
    "filename = \"linux.png\"\n",
=======
    "filename = \"dice.png\"\n",
>>>>>>> bf2b962 (Zmiana klucza)
    "img_path = f\"media/{filename}\""
   ]
  },
  {
   "cell_type": "markdown",
   "id": "d6452924",
   "metadata": {},
   "source": [
<<<<<<< HEAD
    "### Szyfrowanie danych zdekompresowanych"
=======
    "## Porównanie szyfrowania danych bez oraz z dekompresją danych"
>>>>>>> bf2b962 (Zmiana klucza)
   ]
  },
  {
   "cell_type": "markdown",
   "id": "d9a59fdd",
   "metadata": {},
   "source": [
    "### Szyfrowanie po dekompresji danych z kompresją przed zapisaniem (całość) dla dwóch rozmiarów kluczy - 16-bit & 512-bit "
   ]
  },
  {
   "cell_type": "code",
   "execution_count": 5,
<<<<<<< HEAD
   "id": "2c7c74dd",
=======
   "id": "bd90e789",
   "metadata": {},
   "outputs": [
    {
     "name": "stdout",
     "output_type": "stream",
     "text": [
      "512-bit Keypair - ((9604496607152419721878183211808406368446292714035495249698574493635743434495105253821914549258532303521287632124398563349937110217767160994728723648617547, 65537), (9604496607152419721878183211808406368446292714035495249698574493635743434495105253821914549258532303521287632124398563349937110217767160994728723648617547, 8064541309412858459728619618881010635964890699309691748106609332289871758805259518220815526736749989080013260934294286612478185266038075774622085263532305))\n",
      " 16-bit Keypair - ((35953, 65537), (35953, 34577))\n"
     ]
    }
   ],
   "source": [
    "keypair512 = RSA.generateKeypair(512)\n",
    "keypair16 = RSA.generateKeypair(16)\n",
    "print(f\"512-bit Keypair - {keypair512}\")\n",
    "print(f\" 16-bit Keypair - {keypair16}\")"
   ]
  },
  {
   "cell_type": "markdown",
   "id": "bca33679",
   "metadata": {},
   "source": [
    "#### Encryption"
   ]
  },
  {
   "cell_type": "code",
   "execution_count": 6,
   "id": "d7f57a2f",
   "metadata": {},
   "outputs": [],
   "source": [
    "##########################################################################\n",
    "###########################512-bit encrypt################################\n",
    "##########################################################################\n",
    "\n",
    "png = PNG(img_path)\n",
    "png_name = os.path.basename(img_path)\n",
    "crit_chunks = png.getCriticalChunks()\n",
    "anc_chunks = png.getAncillaryChunks()\n",
    "idat_chunks, crit_chunks_no_idat = png.getDataChunks(crit_chunks)\n",
    "pubkey = keypair512[0]\n",
    "\n",
    "chunk_size = len(idat_chunks[0])\n",
    "combined_data = PNG.concatDataChunks(idat_chunks)\n",
    "\n",
    "try:\n",
    "    decompressed_data = zlib.decompress(combined_data)\n",
    "except zlib.error:\n",
    "    decompressed_data = combined_data\n",
    "\n",
    "\n",
    "encrypted_uncompressed = RSA.encryptData(decompressed_data, pubkey)\n",
    "encrypted_compressed = zlib.compress(encrypted_uncompressed)\n",
    "new_chunk = PNG.buildNewIDAT(encrypted_compressed)\n",
    "\n",
    "encrypted_idat_chunks = [new_chunk]\n",
    "all_chunks = png.buildFromChunks(\n",
    "    anc_chunks, crit_chunks_no_idat, encrypted_idat_chunks)\n",
    "\n",
    "timestamp = RSA.getTimeStamp()\n",
    "encrypt_img_path512 = RSA.writeEncrypted(all_chunks, png_name, timestamp)\n",
    "keyfile512 = RSA.saveKeys(keypair512, png_name, timestamp)\n",
    "\n",
    "time.sleep(1)\n",
    "##########################################################################\n",
    "############################16-bit encrypt################################\n",
    "##########################################################################\n",
    "\n",
    "png = PNG(img_path)\n",
    "png_name = os.path.basename(img_path)\n",
    "crit_chunks = png.getCriticalChunks()\n",
    "anc_chunks = png.getAncillaryChunks()\n",
    "idat_chunks, crit_chunks_no_idat = png.getDataChunks(crit_chunks)\n",
    "pubkey = keypair16[0]\n",
    "\n",
    "chunk_size = len(idat_chunks[0])\n",
    "combined_data = PNG.concatDataChunks(idat_chunks)\n",
    "\n",
    "try:\n",
    "    decompressed_data = zlib.decompress(combined_data)\n",
    "except zlib.error:\n",
    "    decompressed_data = combined_data\n",
    "\n",
    "\n",
    "encrypted_uncompressed = RSA.encryptData(decompressed_data, pubkey)\n",
    "encrypted_compressed = zlib.compress(encrypted_uncompressed)\n",
    "new_chunk = PNG.buildNewIDAT(encrypted_compressed)\n",
    "\n",
    "encrypted_idat_chunks = [new_chunk]\n",
    "all_chunks = png.buildFromChunks(\n",
    "    anc_chunks, crit_chunks_no_idat, encrypted_idat_chunks)\n",
    "\n",
    "timestamp = RSA.getTimeStamp()\n",
    "encrypt_img_path16 = RSA.writeEncrypted(all_chunks, png_name, timestamp)\n",
    "keyfile16 = RSA.saveKeys(keypair16, png_name, timestamp)\n"
   ]
  },
  {
   "cell_type": "markdown",
   "id": "72de755a",
   "metadata": {},
   "source": [
    "#### Decryption\n"
   ]
  },
  {
   "cell_type": "code",
   "execution_count": 7,
   "id": "69e866b3",
   "metadata": {},
   "outputs": [],
   "source": [
    "##########################################################################\n",
    "############################16-bit decrypt################################\n",
    "##########################################################################\n",
    "\n",
    "keys = RSA.loadKeys(keyfile16)\n",
    "privkey = keys[1]\n",
    "\n",
    "png = PNG(encrypt_img_path16)\n",
    "png_name = os.path.basename(encrypt_img_path16)\n",
    "crit_chunks = png.getCriticalChunks()\n",
    "anc_chunks = png.getAncillaryChunks()\n",
    "encrypted_idat_chunks, crit_chunks_no_idat = png.getDataChunks(crit_chunks)\n",
    "\n",
    "encrypted_idat_chunk = encrypted_idat_chunks[0]\n",
    "\n",
    "encrypted_decompressed = zlib.decompress(encrypted_idat_chunk[8:-4])\n",
    "decrypted_decompressed = RSA.decryptData(encrypted_decompressed, privkey)\n",
    "decrypted_recompressed = zlib.compress(decrypted_decompressed)\n",
    "\n",
    "decrypted_idat_chunks = []\n",
    "for i in range(0, len(decrypted_recompressed), chunk_size):\n",
    "    chunk_data = decrypted_recompressed[i:i+chunk_size]\n",
    "\n",
    "    new_chunk = PNG.buildNewIDAT(chunk_data)\n",
    "    decrypted_idat_chunks.append(new_chunk)\n",
    "\n",
    "all_chunks = png.buildFromChunks(\n",
    "    anc_chunks, crit_chunks_no_idat, decrypted_idat_chunks)\n",
    "\n",
    "decrypt_img_path16 = RSA.writeDecrypted(all_chunks, png_name)\n",
    "\n",
    "##########################################################################\n",
    "###########################512-bit decrypt################################\n",
    "##########################################################################\n",
    "\n",
    "keys = RSA.loadKeys(keyfile512)\n",
    "privkey = keys[1]\n",
    "\n",
    "png = PNG(encrypt_img_path512)\n",
    "png_name = os.path.basename(encrypt_img_path512)\n",
    "crit_chunks = png.getCriticalChunks()\n",
    "anc_chunks = png.getAncillaryChunks()\n",
    "encrypted_idat_chunks, crit_chunks_no_idat = png.getDataChunks(crit_chunks)\n",
    "\n",
    "encrypted_idat_chunk = encrypted_idat_chunks[0]\n",
    "\n",
    "encrypted_decompressed = zlib.decompress(encrypted_idat_chunk[8:-4])\n",
    "decrypted_decompressed = RSA.decryptData(encrypted_decompressed, privkey)\n",
    "decrypted_recompressed = zlib.compress(decrypted_decompressed)\n",
    "\n",
    "decrypted_idat_chunks = []\n",
    "for i in range(0, len(decrypted_recompressed), chunk_size):\n",
    "    chunk_data = decrypted_recompressed[i:i+chunk_size]\n",
    "\n",
    "    new_chunk = PNG.buildNewIDAT(chunk_data)\n",
    "    decrypted_idat_chunks.append(new_chunk)\n",
    "\n",
    "all_chunks = png.buildFromChunks(\n",
    "    anc_chunks, crit_chunks_no_idat, decrypted_idat_chunks)\n",
    "\n",
    "decrypt_img_path512 = RSA.writeDecrypted(all_chunks, png_name)"
   ]
  },
  {
   "cell_type": "markdown",
   "id": "d0a09c67",
   "metadata": {},
   "source": [
    "#### Porównanie"
   ]
  },
  {
   "cell_type": "code",
   "execution_count": 8,
   "id": "0461e73a",
   "metadata": {},
   "outputs": [
    {
     "data": {
      "text/html": [
       "\n",
       "    <style>\n",
       "        table {\n",
       "            margin: auto;\n",
       "        }\n",
       "        th {\n",
       "            text-align: center;\n",
       "            padding-bottom: 10px;\n",
       "            font-size: 16px;\n",
       "        }\n",
       "        td {\n",
       "            text-align: center;\n",
       "            border: 1px inset grey;\n",
       "        }\n",
       "        p {\n",
       "            text-align: center;\n",
       "        }\n",
       "    </style>\n",
       "    <p>Keysize: 16</p>\n",
       "    <table>\n",
       "    <tr>\n",
       "        <th>Original</th>\n",
       "        <th>Encrypted</th>\n",
       "        <th>Decrypted</th>\n",
       "    </tr>\n",
       "    <tr>\n",
       "        <td><img src=\"media/dice.png\" width=\"300\"></td>\n",
       "        <td><img src=\"files/20250614173049_dice_encrypted.png\" width=\"300\"></td>\n",
       "        <td><img src=\"files/20250614173049_dice_decrypted.png\" width=\"300\"></td>\n",
       "    </tr>\n",
       "    </table>\n",
       "    "
      ],
      "text/plain": [
       "<IPython.core.display.HTML object>"
      ]
     },
     "metadata": {},
     "output_type": "display_data"
    },
    {
     "data": {
      "text/html": [
       "\n",
       "    <style>\n",
       "        table {\n",
       "            margin: auto;\n",
       "        }\n",
       "        th {\n",
       "            text-align: center;\n",
       "            padding-bottom: 10px;\n",
       "            font-size: 16px;\n",
       "        }\n",
       "        td {\n",
       "            text-align: center;\n",
       "            border: 1px inset grey;\n",
       "        }\n",
       "        p {\n",
       "            text-align: center;\n",
       "        }\n",
       "    </style>\n",
       "    <p>Keysize: 512</p>\n",
       "    <table>\n",
       "    <tr>\n",
       "        <th>Original</th>\n",
       "        <th>Encrypted</th>\n",
       "        <th>Decrypted</th>\n",
       "    </tr>\n",
       "    <tr>\n",
       "        <td><img src=\"media/dice.png\" width=\"300\"></td>\n",
       "        <td><img src=\"files/20250614173046_dice_encrypted.png\" width=\"300\"></td>\n",
       "        <td><img src=\"files/20250614173046_dice_decrypted.png\" width=\"300\"></td>\n",
       "    </tr>\n",
       "    </table>\n",
       "    "
      ],
      "text/plain": [
       "<IPython.core.display.HTML object>"
      ]
     },
     "metadata": {},
     "output_type": "display_data"
    }
   ],
   "source": [
    "visualiseResults(img_path, encrypt_img_path16, decrypt_img_path16, 16)\n",
    "visualiseResults(img_path, encrypt_img_path512, decrypt_img_path512, 512)"
   ]
  },
  {
   "cell_type": "markdown",
   "id": "43f2d2aa",
   "metadata": {},
   "source": [
    "### Szyfrowanie po dekompresji bez kompresji przed zapisaniem (całość)"
   ]
  },
  {
   "cell_type": "markdown",
   "id": "a3110cf4",
   "metadata": {},
   "source": [
    "#### Encrypt"
   ]
  },
  {
   "cell_type": "code",
   "execution_count": 9,
   "id": "f53e2e80",
>>>>>>> bf2b962 (Zmiana klucza)
   "metadata": {},
   "outputs": [],
   "source": [
    "png = PNG(img_path)\n",
    "png_name = os.path.basename(img_path)\n",
    "crit_chunks = png.getCriticalChunks()\n",
    "anc_chunks = png.getAncillaryChunks()\n",
    "idat_chunks, crit_chunks_no_idat = png.getDataChunks(crit_chunks)\n",
    "pubkey = keypair[0]\n",
    "\n",
    "chunk_size = len(idat_chunks[0])\n",
    "combined_data = PNG.concatDataChunks(idat_chunks)\n",
    "\n",
    "try:\n",
    "    decompressed_data = zlib.decompress(combined_data)\n",
    "except zlib.error:\n",
    "    decompressed_data = combined_data\n",
    "\n",
    "encrypted_idat_chunks = []\n",
<<<<<<< HEAD
    "# Calculate max chunk size for your RSA key (e.g., 2048 bits, PKCS#1 v1.5 padding)\n",
    "key_bytes = (pubkey[0].bit_length() + 7) // 8\n",
    "max_chunk_size = key_bytes - 11  # for PKCS#1 v1.5 padding\n",
    "\n",
    "for idat in idat_chunks:\n",
    "    idat_data = idat[8:-4]\n",
    "    try:\n",
    "        decompressed_data = zlib.decompress(idat_data)\n",
    "    except zlib.error:\n",
    "        decompressed_data = idat_data\n",
    "\n",
    "    # Split data into chunks\n",
    "    chunks = [decompressed_data[i:i+max_chunk_size] for i in range(0, len(decompressed_data), max_chunk_size)]\n",
    "    encrypted_chunks = []\n",
    "    for chunk in chunks:\n",
    "        encrypted_chunk = RSA.encryptData(chunk, pubkey)\n",
    "        length_bytes = len(chunk).to_bytes(4, 'big')\n",
    "        encrypted_chunks.append(length_bytes + encrypted_chunk)\n",
    "    encrypted_uncompressed = b''.join(encrypted_chunks)\n",
    "    encrypted_compressed = zlib.compress(encrypted_uncompressed)\n",
=======
    "\n",
    "encrypted_uncompressed = RSA.encryptData(decompressed_data, pubkey)\n",
    "\n",
    "new_chunk = PNG.buildNewIDAT(encrypted_uncompressed)\n",
    "encrypted_idat_chunks.append(new_chunk)\n",
>>>>>>> bf2b962 (Zmiana klucza)
    "\n",
    "all_chunks = png.buildFromChunks(\n",
    "    anc_chunks, crit_chunks_no_idat, encrypted_idat_chunks)\n",
    "\n",
<<<<<<< HEAD
    "    encrypted_idat_chunks.append(new_chunk)\n",
    "\n",
    "crit_chunks_no_data.insert(0, png.png_signature)\n",
    "for chunk in encrypted_idat_chunks + anc_chunks:\n",
    "    crit_chunks_no_data.insert(-1, chunk)\n",
    "all_chunks = crit_chunks_no_data\n",
    "\n",
    "encrypt_img_path = writeEncrypted(all_chunks, png_name, \"decompressed\")\n",
    "keyfile = saveKeys(keypair, png_name, \"decompressed\")"
=======
    "timestamp = RSA.getTimeStamp()\n",
    "encrypt_img_path = RSA.writeEncrypted(all_chunks, png_name, timestamp)\n",
    "keyfile = RSA.saveKeys(keypair, png_name, timestamp)"
>>>>>>> bf2b962 (Zmiana klucza)
   ]
  },
  {
   "cell_type": "markdown",
   "id": "be424b28",
   "metadata": {},
   "source": [
    "#### Decrypt"
   ]
  },
  {
   "cell_type": "code",
<<<<<<< HEAD
   "execution_count": 6,
   "id": "e633e22a",
   "metadata": {},
   "outputs": [],
   "source": [
=======
   "execution_count": 10,
   "id": "310025e3",
   "metadata": {},
   "outputs": [],
   "source": [
    "keys = RSA.loadKeys(keyfile)\n",
    "privkey = keys[1]\n",
    "\n",
>>>>>>> bf2b962 (Zmiana klucza)
    "png = PNG(encrypt_img_path)\n",
    "png_name = os.path.basename(encrypt_img_path)\n",
    "crit_chunks = png.getCriticalChunks()\n",
    "anc_chunks = png.getAncillaryChunks()\n",
<<<<<<< HEAD
    "idat_chunks, crit_chunks_no_data = png.getDataChunks(crit_chunks)\n",
    "\n",
    "keys = loadKeys(keyfile)\n",
    "privkey = keys[1]\n",
    "\n",
    "decrypted_idat_chunks = []\n",
    "for chunk in encrypted_idat_chunks:\n",
    "    encrypted_data = zlib.decompress(chunk[8:-4])\n",
    "    decrypted_parts = []\n",
    "    offset = 0\n",
    "    while offset < len(encrypted_data):\n",
    "        chunk_len = int.from_bytes(encrypted_data[offset:offset+4], 'big')\n",
    "        offset += 4\n",
    "        encrypted_chunk = encrypted_data[offset:offset+key_bytes]\n",
    "        offset += key_bytes\n",
    "        decrypted_chunk = RSA.decryptData(encrypted_chunk, privkey)\n",
    "        decrypted_parts.append(decrypted_chunk[:chunk_len])\n",
    "    decrypted_uncompressed = b''.join(decrypted_parts)\n",
    "    decrypted_compressed = zlib.compress(decrypted_uncompressed)\n",
    "\n",
    "    idat_type = b'IDAT'\n",
    "    new_len = len(decrypted_compressed).to_bytes(4, 'big')\n",
    "    new_crc = struct.pack('>I', zlib.crc32(idat_type + decrypted_compressed))\n",
    "    new_chunk = new_len + idat_type + decrypted_compressed + new_crc\n",
=======
    "encrypted_idat_chunks, crit_chunks_no_idat = png.getDataChunks(crit_chunks)\n",
    "\n",
    "encrypted_idat_chunk = encrypted_idat_chunks[0]\n",
    "\n",
    "decrypted_decompressed = RSA.decryptData(encrypted_idat_chunk[8:-4], privkey)\n",
    "decrypted_recompressed = zlib.compress(decrypted_decompressed)\n",
    "\n",
    "decrypted_idat_chunks = []\n",
    "for i in range(0, len(decrypted_recompressed), chunk_size):\n",
    "    chunk_data = decrypted_recompressed[i:i+chunk_size]\n",
>>>>>>> bf2b962 (Zmiana klucza)
    "\n",
    "    new_chunk = PNG.buildNewIDAT(chunk_data)\n",
    "    decrypted_idat_chunks.append(new_chunk)\n",
    "\n",
    "all_chunks = png.buildFromChunks(\n",
    "    anc_chunks, crit_chunks_no_idat, decrypted_idat_chunks)\n",
    "\n",
    "decrypt_img_path = RSA.writeDecrypted(all_chunks, png_name)"
   ]
  },
  {
   "cell_type": "markdown",
   "id": "5a09a9f3",
   "metadata": {},
   "source": [
    "#### Porównanie"
   ]
  },
  {
   "cell_type": "code",
<<<<<<< HEAD
   "execution_count": 7,
   "id": "27961c2f",
   "metadata": {},
   "outputs": [
    {
     "name": "stdout",
     "output_type": "stream",
     "text": [
      "orig: 54608 encrypted: 54608 decrypted: 12815\n"
     ]
=======
   "execution_count": 11,
   "id": "44f3a167",
   "metadata": {},
   "outputs": [
    {
     "data": {
      "text/html": [
       "\n",
       "    <style>\n",
       "        table {\n",
       "            margin: auto;\n",
       "        }\n",
       "        th {\n",
       "            text-align: center;\n",
       "            padding-bottom: 10px;\n",
       "            font-size: 16px;\n",
       "        }\n",
       "        td {\n",
       "            text-align: center;\n",
       "            border: 1px inset grey;\n",
       "        }\n",
       "        p {\n",
       "            text-align: center;\n",
       "        }\n",
       "    </style>\n",
       "    <p>Keysize: 256</p>\n",
       "    <table>\n",
       "    <tr>\n",
       "        <th>Original</th>\n",
       "        <th>Encrypted</th>\n",
       "        <th>Decrypted</th>\n",
       "    </tr>\n",
       "    <tr>\n",
       "        <td><img src=\"media/dice.png\" width=\"300\"></td>\n",
       "        <td><img src=\"files/20250614173059_dice_encrypted.png\" width=\"300\"></td>\n",
       "        <td><img src=\"files/20250614173059_dice_decrypted.png\" width=\"300\"></td>\n",
       "    </tr>\n",
       "    </table>\n",
       "    "
      ],
      "text/plain": [
       "<IPython.core.display.HTML object>"
      ]
     },
     "metadata": {},
     "output_type": "display_data"
>>>>>>> bf2b962 (Zmiana klucza)
    }
   ],
   "source": [
    "visualiseResults(img_path, encrypt_img_path, decrypt_img_path, keysize)"
   ]
  },
  {
   "cell_type": "markdown",
   "id": "191a801d",
   "metadata": {},
   "source": [
<<<<<<< HEAD
    "### Szyfrowanie danych bez dekompresji danych z pliku\n",
    "\n",
    "Czy obie metody są równoważne? - Nie!"
=======
    "### Szyfrowanie bez dekompresji danych"
   ]
  },
  {
   "cell_type": "markdown",
   "id": "376a5eae",
   "metadata": {},
   "source": [
    "#### Jako całość"
>>>>>>> bf2b962 (Zmiana klucza)
   ]
  },
  {
   "cell_type": "markdown",
   "id": "de6ad41b",
   "metadata": {},
   "source": [
    "##### Encryption"
   ]
  },
  {
   "cell_type": "code",
<<<<<<< HEAD
   "execution_count": 8,
=======
   "execution_count": 12,
>>>>>>> bf2b962 (Zmiana klucza)
   "id": "e0db3438",
   "metadata": {},
   "outputs": [],
   "source": [
    "png = PNG(img_path)\n",
    "png_name = os.path.basename(img_path)\n",
    "crit_chunks = png.getCriticalChunks()\n",
    "anc_chunks = png.getAncillaryChunks()\n",
    "idat_chunks, crit_chunks_no_idat = png.getDataChunks(crit_chunks)\n",
    "pubkey = keypair[0]\n",
    "\n",
    "chunk_size = len(idat_chunks[0])\n",
    "combined_data = PNG.concatDataChunks(idat_chunks)\n",
    "\n",
    "encrypted_data = RSA.encryptData(combined_data, pubkey)\n",
    "new_chunk = PNG.buildNewIDAT(encrypted_data)\n",
    "\n",
    "encrypted_idat_chunks = [new_chunk]\n",
    "all_chunks = png.buildFromChunks(\n",
    "    anc_chunks, crit_chunks_no_idat, encrypted_idat_chunks)\n",
    "\n",
<<<<<<< HEAD
    "    encrypted_idat_chunks.append(new_chunk)\n",
    "\n",
    "crit_chunks_no_data.insert(0, png.png_signature)\n",
    "for chunk in encrypted_idat_chunks + anc_chunks:\n",
    "    crit_chunks_no_data.insert(-1, chunk)\n",
    "    \n",
    "all_chunks = crit_chunks_no_data\n",
    "\n",
    "encrypt_img_path = writeEncrypted(all_chunks, png_name, \"compressed\")\n",
    "keyfile = saveKeys(keypair, png_name, \"compressed\")"
=======
    "timestamp = RSA.getTimeStamp()\n",
    "encrypt_img_path = RSA.writeEncrypted(all_chunks, png_name, timestamp)\n",
    "keyfile = RSA.saveKeys(keypair, png_name, timestamp)"
>>>>>>> bf2b962 (Zmiana klucza)
   ]
  },
  {
   "cell_type": "markdown",
   "id": "d857580e",
   "metadata": {},
   "source": [
    "##### Decryption"
   ]
  },
  {
   "cell_type": "code",
<<<<<<< HEAD
   "execution_count": 9,
=======
   "execution_count": 13,
>>>>>>> bf2b962 (Zmiana klucza)
   "id": "fa8e478a",
   "metadata": {},
   "outputs": [],
   "source": [
    "keys = RSA.loadKeys(keyfile)\n",
    "privkey = keys[1]\n",
    "\n",
    "png = PNG(encrypt_img_path)\n",
    "png_name = os.path.basename(encrypt_img_path)\n",
    "\n",
    "crit_chunks = png.getCriticalChunks()\n",
    "anc_chunks = png.getAncillaryChunks()\n",
    "encrypted_idat_chunks, crit_chunks_no_idat = png.getDataChunks(crit_chunks)\n",
    "encrypted_idat_chunk = encrypted_idat_chunks[0]\n",
    "\n",
    "decrypted_data = RSA.decryptData(encrypted_idat_chunk[8:-4], privkey)\n",
    "\n",
    "decrypted_idat_chunks = []\n",
<<<<<<< HEAD
    "for chunk in encrypted_idat_chunks:\n",
    "    chunk_data = chunk[8:-4]\n",
    "    decrypted_chunk_data = RSA.decryptData(chunk_data, privkey)\n",
    "    decrypted_data.append(decrypted_chunk_data)\n",
    "\n",
    "    idat_type = b'IDAT'\n",
    "    new_len = len(decrypted_chunk_data).to_bytes(4, 'big')\n",
    "    new_crc = struct.pack('>I', zlib.crc32(idat_type + decrypted_chunk_data))\n",
    "    new_chunk = new_len + idat_type + decrypted_chunk_data + new_crc\n",
=======
    "for i in range(0, len(decrypted_data), chunk_size):\n",
    "    chunk_data = decrypted_data[i:i+chunk_size]\n",
>>>>>>> bf2b962 (Zmiana klucza)
    "\n",
    "    new_chunk = PNG.buildNewIDAT(chunk_data)\n",
    "    decrypted_idat_chunks.append(new_chunk)\n",
    "\n",
    "all_chunks = png.buildFromChunks(\n",
    "    anc_chunks, crit_chunks_no_idat, decrypted_idat_chunks)\n",
    "\n",
    "decrypt_img_path = RSA.writeDecrypted(all_chunks, png_name)"
   ]
  },
  {
   "cell_type": "markdown",
   "id": "0208b149",
   "metadata": {},
   "source": [
    "#### Porównanie"
   ]
  },
  {
   "cell_type": "code",
<<<<<<< HEAD
   "execution_count": 10,
   "id": "b5ef4e6d",
   "metadata": {},
   "outputs": [
    {
     "name": "stdout",
     "output_type": "stream",
     "text": [
      "orig: 11261 encrypted: 12206 decrypted: 11261\n"
     ]
=======
   "execution_count": 14,
   "id": "8ca522ce",
   "metadata": {},
   "outputs": [
    {
     "data": {
      "text/html": [
       "\n",
       "    <style>\n",
       "        table {\n",
       "            margin: auto;\n",
       "        }\n",
       "        th {\n",
       "            text-align: center;\n",
       "            padding-bottom: 10px;\n",
       "            font-size: 16px;\n",
       "        }\n",
       "        td {\n",
       "            text-align: center;\n",
       "            border: 1px inset grey;\n",
       "        }\n",
       "        p {\n",
       "            text-align: center;\n",
       "        }\n",
       "    </style>\n",
       "    <p>Keysize: 256</p>\n",
       "    <table>\n",
       "    <tr>\n",
       "        <th>Original</th>\n",
       "        <th>Encrypted</th>\n",
       "        <th>Decrypted</th>\n",
       "    </tr>\n",
       "    <tr>\n",
       "        <td><img src=\"media/dice.png\" width=\"300\"></td>\n",
       "        <td><img src=\"files/20250614173102_dice_encrypted.png\" width=\"300\"></td>\n",
       "        <td><img src=\"files/20250614173102_dice_decrypted.png\" width=\"300\"></td>\n",
       "    </tr>\n",
       "    </table>\n",
       "    "
      ],
      "text/plain": [
       "<IPython.core.display.HTML object>"
      ]
     },
     "metadata": {},
     "output_type": "display_data"
>>>>>>> bf2b962 (Zmiana klucza)
    }
   ],
   "source": [
    "visualiseResults(img_path, encrypt_img_path, decrypt_img_path, keysize)"
   ]
  },
  {
   "cell_type": "markdown",
   "id": "f9a15c71",
   "metadata": {},
   "source": [
    "#### Per chunki (standard ecb)"
   ]
  },
  {
   "cell_type": "markdown",
   "id": "c65fe9a2",
   "metadata": {},
   "source": [
    "##### Encryption"
   ]
  },
  {
   "cell_type": "code",
   "execution_count": 15,
   "id": "bc814a19",
   "metadata": {},
   "outputs": [],
   "source": [
    "encrypt_img_path, keyfile = RSA.encryptFileECB(img_path, keypair)"
   ]
  },
  {
   "cell_type": "markdown",
   "id": "776594ee",
   "metadata": {},
   "source": [
    "##### Decryption"
   ]
  },
  {
   "cell_type": "code",
   "execution_count": 16,
   "id": "d5c03c44",
   "metadata": {},
   "outputs": [],
   "source": [
    "decrypt_img_path = RSA.decryptFileECB(encrypt_img_path, keyfile)"
   ]
  },
  {
   "cell_type": "markdown",
   "id": "aac0250d",
   "metadata": {},
   "source": [
    "#### Porównanie"
   ]
  },
  {
   "cell_type": "code",
   "execution_count": 17,
   "id": "d142a635",
   "metadata": {},
   "outputs": [
    {
     "data": {
      "text/html": [
       "\n",
       "    <style>\n",
       "        table {\n",
       "            margin: auto;\n",
       "        }\n",
       "        th {\n",
       "            text-align: center;\n",
       "            padding-bottom: 10px;\n",
       "            font-size: 16px;\n",
       "        }\n",
       "        td {\n",
       "            text-align: center;\n",
       "            border: 1px inset grey;\n",
       "        }\n",
       "        p {\n",
       "            text-align: center;\n",
       "        }\n",
       "    </style>\n",
       "    <p>Keysize: 256</p>\n",
       "    <table>\n",
       "    <tr>\n",
       "        <th>Original</th>\n",
       "        <th>Encrypted</th>\n",
       "        <th>Decrypted</th>\n",
       "    </tr>\n",
       "    <tr>\n",
       "        <td><img src=\"media/dice.png\" width=\"300\"></td>\n",
       "        <td><img src=\"files/20250614173103_dice_encrypted.png\" width=\"300\"></td>\n",
       "        <td><img src=\"files/20250614173103_dice_decrypted.png\" width=\"300\"></td>\n",
       "    </tr>\n",
       "    </table>\n",
       "    "
      ],
      "text/plain": [
       "<IPython.core.display.HTML object>"
      ]
     },
     "metadata": {},
     "output_type": "display_data"
    }
   ],
   "source": [
    "visualiseResults(img_path, encrypt_img_path, decrypt_img_path, keysize)"
   ]
  },
  {
   "cell_type": "markdown",
   "id": "9cd24a2a",
   "metadata": {},
   "source": [
    "## Porównanie metod szyfrowania: ECB (Electronic CodeBook) oraz CBC (Cypher Clock Chaining)"
   ]
  },
  {
   "cell_type": "markdown",
   "id": "95a8facf",
   "metadata": {},
   "source": [
    "### ECB"
   ]
  },
  {
   "cell_type": "markdown",
   "id": "dcd6a2dd",
   "metadata": {},
   "source": [
    "#### Encryption"
   ]
  },
  {
   "cell_type": "code",
<<<<<<< HEAD
   "execution_count": 11,
=======
   "execution_count": 18,
>>>>>>> bf2b962 (Zmiana klucza)
   "id": "eab54718",
   "metadata": {},
   "outputs": [
    {
     "name": "stdout",
     "output_type": "stream",
     "text": [
      "Original png: media/dice.png\n",
      "Encrypted png: files/20250614173104_dice_encrypted.png\n",
      "Keyfile: files/20250614173104_dice_keys.txt\n",
      "\n"
     ]
    }
   ],
   "source": [
    "ecb_encrypted_img_path, keyfile_path =  RSA.encryptFileECB(img_path, keypair)\n",
    "\n",
<<<<<<< HEAD
    "encrypted_idat_chunks = []\n",
    "# Calculate max chunk size for your RSA key (e.g., 2048 bits, PKCS#1 v1.5 padding)\n",
    "key_bytes = (pubkey[0].bit_length() + 7) // 8\n",
    "max_chunk_size = key_bytes - 11  # for PKCS#1 v1.5 padding\n",
    "\n",
    "for idat in idat_chunks:\n",
    "    idat_data = idat[8:-4]\n",
    "    try:\n",
    "        decompressed_data = zlib.decompress(idat_data)\n",
    "    except zlib.error:\n",
    "        decompressed_data = idat_data\n",
    "\n",
    "    # Split data into chunks\n",
    "    chunks = [decompressed_data[i:i+max_chunk_size] for i in range(0, len(decompressed_data), max_chunk_size)]\n",
    "    encrypted_chunks = []\n",
    "    for chunk in chunks:\n",
    "        encrypted_chunk = RSA.encryptECB(chunk, pubkey)\n",
    "        length_bytes = len(chunk).to_bytes(4, 'big')\n",
    "        encrypted_chunks.append(length_bytes + encrypted_chunk)\n",
    "    encrypted_uncompressed = b''.join(encrypted_chunks)\n",
    "    encrypted_compressed = zlib.compress(encrypted_uncompressed)\n",
    "\n",
    "    idat_type = b'IDAT'\n",
    "    new_len = len(encrypted_compressed).to_bytes(4, 'big')\n",
    "    new_crc = struct.pack('>I', zlib.crc32(idat_type + encrypted_compressed))\n",
    "    new_chunk = new_len + idat_type + encrypted_compressed + new_crc\n",
    "\n",
    "    encrypted_idat_chunks.append(new_chunk)\n",
    "\n",
    "crit_chunks_no_data.insert(0, png.png_signature)\n",
    "for chunk in encrypted_idat_chunks + anc_chunks:\n",
    "    crit_chunks_no_data.insert(-1, chunk)\n",
    "all_chunks = crit_chunks_no_data\n",
    "\n",
    "encrypt_img_path = writeEncrypted(all_chunks, png_name, \"ECB\")\n",
    "keyfile = saveKeys(keypair, png_name, \"ECB\")"
=======
    "print(f\"\"\"Original png: {img_path}\n",
    "Encrypted png: {ecb_encrypted_img_path}\n",
    "Keyfile: {keyfile_path}\n",
    "\"\"\")"
>>>>>>> bf2b962 (Zmiana klucza)
   ]
  },
  {
   "cell_type": "markdown",
   "id": "5ada16b2",
   "metadata": {},
   "source": [
    "#### Decryption"
   ]
  },
  {
   "cell_type": "code",
<<<<<<< HEAD
   "execution_count": 12,
=======
   "execution_count": 19,
>>>>>>> bf2b962 (Zmiana klucza)
   "id": "4599d7d7",
   "metadata": {},
   "outputs": [
    {
     "name": "stdout",
     "output_type": "stream",
     "text": [
      "Decrypted png: files/20250614173104_dice_decrypted.png\n"
     ]
    }
   ],
   "source": [
<<<<<<< HEAD
    "keys = loadKeys(keyfile)\n",
    "privkey = keys[1]\n",
    "\n",
    "png = PNG(encrypt_img_path)\n",
    "png_name = os.path.basename(encrypt_img_path)\n",
    "crit_chunks = png.getCriticalChunks()\n",
    "anc_chunks = png.getAncillaryChunks()\n",
    "encrypted_idat_chunks, crit_chunks_no_data = png.getDataChunks(crit_chunks)\n",
    "\n",
    "decrypted_idat_chunks = []\n",
    "for chunk in encrypted_idat_chunks:\n",
    "    encrypted_data = zlib.decompress(chunk[8:-4])\n",
    "    decrypted_parts = []\n",
    "    offset = 0\n",
    "    while offset < len(encrypted_data):\n",
    "        chunk_len = int.from_bytes(encrypted_data[offset:offset+4], 'big')\n",
    "        offset += 4\n",
    "        encrypted_chunk = encrypted_data[offset:offset+key_bytes]\n",
    "        offset += key_bytes\n",
    "        decrypted_chunk = RSA.decryptECB(encrypted_chunk, privkey)\n",
    "        decrypted_parts.append(decrypted_chunk[:chunk_len])\n",
    "    decrypted_uncompressed = b''.join(decrypted_parts)\n",
    "    decrypted_compressed = zlib.compress(decrypted_uncompressed)\n",
    "\n",
    "    idat_type = b'IDAT'\n",
    "    new_len = len(decrypted_compressed).to_bytes(4, 'big')\n",
    "    new_crc = struct.pack('>I', zlib.crc32(idat_type + decrypted_compressed))\n",
    "    new_chunk = new_len + idat_type + decrypted_compressed + new_crc\n",
    "\n",
    "    decrypted_idat_chunks.append(new_chunk)\n",
    "\n",
    "crit_chunks_no_data.insert(0, png.png_signature)\n",
    "for chunk in decrypted_idat_chunks + anc_chunks:\n",
    "    crit_chunks_no_data.insert(-1, chunk)\n",
    "all_chunks = crit_chunks_no_data\n",
    "\n",
    "writeDecrypted(all_chunks, png_name)"
=======
    "ecb_decrypted_img_path =  RSA.decryptFileECB(\n",
    "    ecb_encrypted_img_path, keyfile_path)\n",
    "\n",
    "print(f\"Decrypted png: {ecb_decrypted_img_path}\")"
   ]
  },
  {
   "cell_type": "markdown",
   "id": "cc2495e1",
   "metadata": {},
   "source": [
    "#### Porównanie"
   ]
  },
  {
   "cell_type": "code",
   "execution_count": 20,
   "id": "48258f44",
   "metadata": {},
   "outputs": [
    {
     "data": {
      "text/html": [
       "\n",
       "    <style>\n",
       "        table {\n",
       "            margin: auto;\n",
       "        }\n",
       "        th {\n",
       "            text-align: center;\n",
       "            padding-bottom: 10px;\n",
       "            font-size: 16px;\n",
       "        }\n",
       "        td {\n",
       "            text-align: center;\n",
       "            border: 1px inset grey;\n",
       "        }\n",
       "        p {\n",
       "            text-align: center;\n",
       "        }\n",
       "    </style>\n",
       "    <p>Keysize: 256</p>\n",
       "    <table>\n",
       "    <tr>\n",
       "        <th>Original</th>\n",
       "        <th>Encrypted</th>\n",
       "        <th>Decrypted</th>\n",
       "    </tr>\n",
       "    <tr>\n",
       "        <td><img src=\"media/dice.png\" width=\"300\"></td>\n",
       "        <td><img src=\"files/20250614173104_dice_encrypted.png\" width=\"300\"></td>\n",
       "        <td><img src=\"files/20250614173104_dice_decrypted.png\" width=\"300\"></td>\n",
       "    </tr>\n",
       "    </table>\n",
       "    "
      ],
      "text/plain": [
       "<IPython.core.display.HTML object>"
      ]
     },
     "metadata": {},
     "output_type": "display_data"
    }
   ],
   "source": [
    "visualiseResults(img_path, ecb_encrypted_img_path, ecb_decrypted_img_path, keysize)"
>>>>>>> bf2b962 (Zmiana klucza)
   ]
  },
  {
   "cell_type": "code",
   "execution_count": 13,
   "id": "ac6c0d7a",
   "metadata": {},
   "outputs": [
    {
     "name": "stdout",
     "output_type": "stream",
     "text": [
      "orig: 11261 encrypted: 54608 decrypted: 12815\n"
     ]
    }
   ],
   "source": [
    "for i, j, k in zip(idat_chunks, encrypted_idat_chunks, decrypted_idat_chunks):\n",
    "    print(f\"orig: {len(i)} encrypted: {len(j)} decrypted: {len(k)}\")"
   ]
  },
  {
   "cell_type": "markdown",
   "id": "ad4b77e6",
   "metadata": {},
   "source": [
    "### CBC"
   ]
  },
  {
   "cell_type": "markdown",
   "id": "71ec8e33",
   "metadata": {},
   "source": [
    "#### Encryption"
   ]
  },
  {
   "cell_type": "code",
<<<<<<< HEAD
   "execution_count": 14,
=======
   "execution_count": 21,
>>>>>>> bf2b962 (Zmiana klucza)
   "id": "66d800de",
   "metadata": {},
   "outputs": [
    {
     "name": "stdout",
     "output_type": "stream",
     "text": [
      "Original png: media/dice.png\n",
      "Encrypted png: files/20250614173105_dice_encrypted.png\n",
      "Keyfile: files/20250614173105_dice_keys.txt\n",
      "\n"
     ]
    }
   ],
   "source": [
    "cbc_encrypted_img_path, keyfile_path, iv =  RSA.encryptFileCBC(img_path, keypair)\n",
    "\n",
<<<<<<< HEAD
    "block_size = (pubkey[0].bit_length() + 7) // 8\n",
    "max_chunk_size = block_size - 11  # for PKCS#1 v1.5 padding\n",
    "\n",
    "# Generate IV for each file (or per chunk if you want)\n",
    "iv = random.randbytes(block_size)\n",
    "\n",
    "encrypted_idat_chunks = []\n",
    "for idat in idat_chunks:\n",
    "    idat_data = idat[8:-4]\n",
    "    try:\n",
    "        decompressed_data = zlib.decompress(idat_data)\n",
    "    except zlib.error:\n",
    "        decompressed_data = idat_data\n",
    "\n",
    "    # Split data into chunks\n",
    "    chunks = [decompressed_data[i:i+max_chunk_size] for i in range(0, len(decompressed_data), max_chunk_size)]\n",
    "    encrypted_chunks = []\n",
    "    prev = iv\n",
    "    for chunk in chunks:\n",
    "        encrypted_chunk = RSA.encryptCBC(chunk, pubkey, prev)\n",
    "        length_bytes = len(chunk).to_bytes(4, 'big')\n",
    "        encrypted_chunks.append(length_bytes + encrypted_chunk)\n",
    "        prev = encrypted_chunk  # CBC chaining\n",
    "\n",
    "    # Store IV at the start of the encrypted data for decryption\n",
    "    encrypted_uncompressed = iv + b''.join(encrypted_chunks)\n",
    "    encrypted_compressed = zlib.compress(encrypted_uncompressed)\n",
    "\n",
    "    idat_type = b'IDAT'\n",
    "    new_len = len(encrypted_compressed).to_bytes(4, 'big')\n",
    "    new_crc = struct.pack('>I', zlib.crc32(idat_type + encrypted_compressed))\n",
    "    new_chunk = new_len + idat_type + encrypted_compressed + new_crc\n",
    "\n",
    "    encrypted_idat_chunks.append(new_chunk)\n",
    "\n",
    "crit_chunks_no_data.insert(0, png.png_signature)\n",
    "for chunk in encrypted_idat_chunks + anc_chunks:\n",
    "    crit_chunks_no_data.insert(-1, chunk)\n",
    "all_chunks = crit_chunks_no_data\n",
    "\n",
    "encrypt_img_path = writeEncrypted(all_chunks, png_name, \"CBC\")\n",
    "keyfile = saveKeys(keypair, png_name, \"CBC\")\n"
=======
    "print(f\"\"\"Original png: {img_path}\n",
    "Encrypted png: {cbc_encrypted_img_path}\n",
    "Keyfile: {keyfile_path}\n",
    "\"\"\")"
>>>>>>> bf2b962 (Zmiana klucza)
   ]
  },
  {
   "cell_type": "markdown",
   "id": "59a1a7f8",
   "metadata": {},
   "source": [
    "#### Decryption"
   ]
  },
  {
   "cell_type": "code",
<<<<<<< HEAD
   "execution_count": 15,
=======
   "execution_count": 22,
>>>>>>> bf2b962 (Zmiana klucza)
   "id": "feff5e04",
   "metadata": {},
   "outputs": [
    {
     "name": "stdout",
     "output_type": "stream",
     "text": [
      "Decrypted png: files/20250614173105_dice_decrypted.png\n"
     ]
    }
   ],
   "source": [
<<<<<<< HEAD
    "keys = loadKeys(keyfile)\n",
    "privkey = keys[1]\n",
    "\n",
    "png = PNG(encrypt_img_path)\n",
    "png_name = os.path.basename(encrypt_img_path)\n",
    "crit_chunks = png.getCriticalChunks()\n",
    "anc_chunks = png.getAncillaryChunks()\n",
    "encrypted_idat_chunks, crit_chunks_no_data = png.getDataChunks(crit_chunks)\n",
    "\n",
    "decrypted_idat_chunks = []\n",
    "for chunk in encrypted_idat_chunks:\n",
    "    encrypted_data = zlib.decompress(chunk[8:-4])\n",
    "    iv = encrypted_data[:block_size]\n",
    "    offset = block_size\n",
    "    decrypted_parts = []\n",
    "    prev = iv\n",
    "    while offset < len(encrypted_data):\n",
    "        chunk_len = int.from_bytes(encrypted_data[offset:offset+4], 'big')\n",
    "        offset += 4\n",
    "        encrypted_chunk = encrypted_data[offset:offset+block_size]\n",
    "        offset += block_size\n",
    "        decrypted_chunk = RSA.decryptCBC(encrypted_chunk, privkey, prev)\n",
    "        decrypted_parts.append(decrypted_chunk[:chunk_len])\n",
    "        prev = encrypted_chunk  # CBC chaining\n",
    "\n",
    "    decrypted_uncompressed = b''.join(decrypted_parts)\n",
    "    decrypted_compressed = zlib.compress(decrypted_uncompressed)\n",
    "\n",
    "    idat_type = b'IDAT'\n",
    "    new_len = len(decrypted_compressed).to_bytes(4, 'big')\n",
    "    new_crc = struct.pack('>I', zlib.crc32(idat_type + decrypted_compressed))\n",
    "    new_chunk = new_len + idat_type + decrypted_compressed + new_crc\n",
    "\n",
    "    decrypted_idat_chunks.append(new_chunk)\n",
    "\n",
    "crit_chunks_no_data.insert(0, png.png_signature)\n",
    "for chunk in decrypted_idat_chunks + anc_chunks:\n",
    "    crit_chunks_no_data.insert(-1, chunk)\n",
    "all_chunks = crit_chunks_no_data\n",
    "\n",
    "writeDecrypted(all_chunks, png_name)"
=======
    "cbc_decrypted_img_path =  RSA.decryptFileCBC(\n",
    "    cbc_encrypted_img_path, keyfile_path, iv)\n",
    "\n",
    "print(f\"Decrypted png: {cbc_decrypted_img_path}\")"
   ]
  },
  {
   "cell_type": "markdown",
   "id": "d6d56240",
   "metadata": {},
   "source": [
    "#### Porównanie"
   ]
  },
  {
   "cell_type": "code",
   "execution_count": 23,
   "id": "97c8f71c",
   "metadata": {},
   "outputs": [
    {
     "data": {
      "text/html": [
       "\n",
       "    <style>\n",
       "        table {\n",
       "            margin: auto;\n",
       "        }\n",
       "        th {\n",
       "            text-align: center;\n",
       "            padding-bottom: 10px;\n",
       "            font-size: 16px;\n",
       "        }\n",
       "        td {\n",
       "            text-align: center;\n",
       "            border: 1px inset grey;\n",
       "        }\n",
       "        p {\n",
       "            text-align: center;\n",
       "        }\n",
       "    </style>\n",
       "    <p>Keysize: 256</p>\n",
       "    <table>\n",
       "    <tr>\n",
       "        <th>Original</th>\n",
       "        <th>Encrypted</th>\n",
       "        <th>Decrypted</th>\n",
       "    </tr>\n",
       "    <tr>\n",
       "        <td><img src=\"media/dice.png\" width=\"300\"></td>\n",
       "        <td><img src=\"files/20250614173105_dice_encrypted.png\" width=\"300\"></td>\n",
       "        <td><img src=\"files/20250614173105_dice_decrypted.png\" width=\"300\"></td>\n",
       "    </tr>\n",
       "    </table>\n",
       "    "
      ],
      "text/plain": [
       "<IPython.core.display.HTML object>"
      ]
     },
     "metadata": {},
     "output_type": "display_data"
    }
   ],
   "source": [
    "visualiseResults(img_path, cbc_encrypted_img_path, cbc_decrypted_img_path, keysize)"
>>>>>>> bf2b962 (Zmiana klucza)
   ]
  },
  {
   "cell_type": "markdown",
   "id": "1bd3660c",
   "metadata": {},
   "source": [
    "##### Data lengths check"
   ]
  },
  {
   "cell_type": "code",
   "execution_count": 24,
   "id": "5e81e4e8",
   "metadata": {},
   "outputs": [
    {
     "name": "stdout",
     "output_type": "stream",
     "text": [
<<<<<<< HEAD
      "orig: 11261 encrypted: 582758 decrypted: 12815\n"
=======
      "orig: 179514 encrypted: 185324 decrypted: 179514\n"
>>>>>>> bf2b962 (Zmiana klucza)
     ]
    }
   ],
   "source": [
    "for i, j, k in zip(idat_chunks, encrypted_idat_chunks, decrypted_idat_chunks):\n",
    "    print(f\"orig: {len(i)} encrypted: {len(j)} decrypted: {len(k)}\")"
   ]
  },
  {
   "cell_type": "markdown",
   "id": "18efc654",
   "metadata": {},
   "source": [
    "## Porównanie z gotową implementacją RSA"
   ]
  },
  {
   "cell_type": "markdown",
   "id": "cec33a3b",
   "metadata": {},
   "source": [
    "##### Keygen"
   ]
  },
  {
   "cell_type": "code",
   "execution_count": 25,
   "id": "32db9edd",
   "metadata": {},
   "outputs": [],
   "source": [
    "\n",
    "# ----- Encryption -----\n",
    "\n",
    "# Generate RSA key using PyCrypto\n",
    "key = CryptoRSA.generate(2048)\n",
    "pubkey = key.publickey()\n",
    "\n",
    "# Process PNG chunks\n",
    "png = PNG(img_path)\n",
    "png_name = os.path.basename(img_path)\n",
    "crit_chunks = png.getCriticalChunks()\n",
    "anc_chunks = png.getAncillaryChunks()\n",
    "idat_chunks, crit_chunks_no_data = png.getDataChunks(crit_chunks)\n",
    "\n",
    "encrypted_idat_chunks = []\n",
    "for idat in idat_chunks:\n",
    "    idat_data = idat[8:-4]\n",
    "\n",
    "    # Try to decompress IDAT data (should work for standard PNGs)\n",
    "    try:\n",
    "        decompressed_data = zlib.decompress(idat_data)\n",
    "    except zlib.error:\n",
    "        decompressed_data = idat_data  # Use as-is if can't decompress\n",
    "\n",
    "    # Maximum size for PKCS1_OAEP with 2048-bit key is ~214 bytes\n",
    "    # Need to chunk the data for encryption\n",
    "    chunk_size = 214\n",
    "    chunks = [decompressed_data[i:i+chunk_size] for i in range(0, len(decompressed_data), chunk_size)]\n",
    "    \n",
    "    # Initialize the cipher\n",
    "    cipher = PKCS1_OAEP.new(pubkey)\n",
    "    \n",
    "    # Encrypt each chunk and concatenate\n",
    "    encrypted_chunks = []\n",
    "    for chunk in chunks:\n",
    "        encrypted_chunk = cipher.encrypt(chunk)\n",
    "        # Store length + encrypted data to help with decryption\n",
    "        length_bytes = len(chunk).to_bytes(4, 'big')\n",
    "        encrypted_chunks.append(length_bytes + encrypted_chunk)\n",
    "    \n",
    "    encrypted_uncompressed = b''.join(encrypted_chunks)\n",
    "    encrypted_compressed = zlib.compress(encrypted_uncompressed)\n",
    "\n",
    "    idat_type = b'IDAT'\n",
    "    new_len = len(encrypted_compressed).to_bytes(4, 'big')\n",
    "    new_crc = struct.pack('>I', zlib.crc32(idat_type + encrypted_compressed))\n",
    "    new_chunk = new_len + idat_type + encrypted_compressed + new_crc\n",
    "\n",
    "    encrypted_idat_chunks.append(new_chunk)\n",
    "\n",
    "# Reconstruct PNG with encrypted chunks\n",
    "crit_chunks_no_data.insert(0, png.png_signature)\n",
    "for chunk in encrypted_idat_chunks + anc_chunks:\n",
    "    crit_chunks_no_data.insert(-1, chunk)\n",
    "all_chunks = crit_chunks_no_data\n",
    "\n",
    "encrypt_img_path = writeEncrypted(all_chunks, png_name, \"Crypto\")\n",
    "keyfile = f\"Crypto_{png_name[:-4]}_key.pem\"\n",
    "with open(keyfile, \"wb\") as f:\n",
    "    f.write(key.export_key(\"PEM\"))"
   ]
  },
  {
   "cell_type": "code",
   "execution_count": 18,
   "id": "c70fe57e",
   "metadata": {},
   "outputs": [
    {
     "name": "stdout",
     "output_type": "stream",
     "text": [
<<<<<<< HEAD
      "Original: 11261 bytes | Encrypted: 101273 bytes | Decrypted: 12815 bytes\n"
=======
      " Key:\n",
      "n - 19984746303123883186304055628768269631924221914843998021707053825044237822679151668887112983035678224131894606711882984857061415539185090349632833533923684415184379503186009892481749420371565305455234952504018204035848189331647303496346978182953405428842853554680292637236531503448164208337162080318348224577\n",
      "e - 65537\n",
      "d - 3557411086443432278734502845189902399042189493851871170807856476844623318726444350050155790776114594240241123058742800270724605546182053862990625692460038920264943273830692462133930532680870451334017807993020553402964696282071509976841810255667249092895765171617298883994447608667227632610973998789201367273\n",
      "\n"
>>>>>>> bf2b962 (Zmiana klucza)
     ]
    }
   ],
   "source": [
<<<<<<< HEAD
    "# ----- Decryption -----\n",
    "\n",
    "# Load the private key\n",
    "with open(keyfile, 'rb') as f:\n",
    "    key = CryptoRSA.import_key(f.read())\n",
    "\n",
    "# Process encrypted PNG\n",
    "png = PNG(encrypt_img_path)\n",
    "png_name = os.path.basename(encrypt_img_path)\n",
    "crit_chunks = png.getCriticalChunks()\n",
    "anc_chunks = png.getAncillaryChunks()\n",
    "encrypted_idat_chunks, crit_chunks_no_data = png.getDataChunks(crit_chunks)\n",
    "\n",
    "decrypted_idat_chunks = []\n",
    "for chunk in encrypted_idat_chunks:\n",
    "    # 1. Decompress the encrypted data\n",
    "    encrypted_data = zlib.decompress(chunk[8:-4])\n",
    "    \n",
    "    # 2. Initialize the decryption cipher\n",
    "    decipher = PKCS1_OAEP.new(key)\n",
    "    \n",
    "    # 3. Process encrypted chunks\n",
    "    decrypted_parts = []\n",
    "    offset = 0\n",
    "    while offset < len(encrypted_data):\n",
    "        # Read the original chunk length\n",
    "        chunk_len = int.from_bytes(encrypted_data[offset:offset+4], 'big')\n",
    "        offset += 4\n",
    "        \n",
    "        # The encrypted data is the next 256 bytes (for 2048-bit key)\n",
    "        encrypted_chunk = encrypted_data[offset:offset+256]\n",
    "        offset += 256\n",
    "        \n",
    "        # Decrypt the chunk\n",
    "        decrypted_chunk = decipher.decrypt(encrypted_chunk)\n",
    "        decrypted_parts.append(decrypted_chunk)\n",
    "    \n",
    "    # 4. Combine all decrypted parts\n",
    "    decrypted_uncompressed = b''.join(decrypted_parts)\n",
    "    \n",
    "    # 5. Compress the decrypted data to restore PNG format\n",
    "    decrypted_compressed = zlib.compress(decrypted_uncompressed)\n",
    "\n",
    "    idat_type = b'IDAT'\n",
    "    new_len = len(decrypted_compressed).to_bytes(4, 'big')\n",
    "    new_crc = struct.pack('>I', zlib.crc32(idat_type + decrypted_compressed))\n",
    "    new_chunk = new_len + idat_type + decrypted_compressed + new_crc\n",
    "\n",
    "    decrypted_idat_chunks.append(new_chunk)\n",
    "\n",
    "crit_chunks_no_data.insert(0, png.png_signature)\n",
    "for chunk in decrypted_idat_chunks + anc_chunks:\n",
    "    crit_chunks_no_data.insert(-1, chunk)\n",
    "all_chunks = crit_chunks_no_data\n",
    "\n",
    "decrypted_path = writeDecrypted(all_chunks, png_name)\n",
    "\n",
    "for i, j, k in zip(idat_chunks, encrypted_idat_chunks, decrypted_idat_chunks):\n",
    "    print(f\"Original: {len(i)} bytes | Encrypted: {len(j)} bytes | Decrypted: {len(k)} bytes\")"
=======
    "keysize = 1024\n",
    "custom_keypair = RSA.generateKeypair(keysize)\n",
    "print(f\"\"\" Key:\n",
    "n - {custom_keypair[0][0]}\n",
    "e - {custom_keypair[0][1]}\n",
    "d - {custom_keypair[1][1]}\n",
    "\"\"\") "
>>>>>>> bf2b962 (Zmiana klucza)
   ]
  },
  {
   "cell_type": "markdown",
<<<<<<< HEAD
=======
   "id": "54c3701f",
   "metadata": {},
   "source": [
    "##### Encode/Decode"
   ]
  },
  {
   "cell_type": "code",
   "execution_count": 26,
   "id": "35f6660d",
   "metadata": {},
   "outputs": [
    {
     "name": "stdout",
     "output_type": "stream",
     "text": [
      "Python implementation time decrypt: 0.489 ms encrypt: 2.191 ms\n",
      "Custom implementation time decrypt: 0.094 ms encrypt: 5.343 ms\n"
     ]
    }
   ],
   "source": [
    "img_path = f\"media/dice.png\"\n",
    "\n",
    "##########################################################################\n",
    "###########################Our Implementation#############################\n",
    "##########################################################################\n",
    "\n",
    "# Encrypt\n",
    "cbc_enc_start = time.time()\n",
    "cbc_encrypted_img_path, keyfile_path, iv = RSA.encryptFileCBC(img_path, custom_keypair)\n",
    "cbc_enc_end = time.time()\n",
    "\n",
    "# Decrypt\n",
    "cbc_dec_start = time.time()\n",
    "cbc_decrypted_img_path = RSA.decryptFileCBC(cbc_encrypted_img_path, keyfile_path, iv)\n",
    "cbc_dec_end = time.time()\n",
    "\n",
    "##########################################################################\n",
    "#######################Python package PyCryptodome########################\n",
    "##########################################################################\n",
    "png = PNG(img_path)\n",
    "idat_chunks, _ = png.getDataChunks(png.getCriticalChunks())\n",
    "idat_data = png.concatDataChunks(idat_chunks)\n",
    "\n",
    "pycrypto_key = PyCryptoRSA.construct((\n",
    "    custom_keypair[0][0], \n",
    "    custom_keypair[0][1], \n",
    "    custom_keypair[1][1]\n",
    "    ))\n",
    "cipher = PKCS1_OAEP.new(pycrypto_key)\n",
    "\n",
    "byte_len = (custom_keypair[0][0].bit_length() + 7) // 8\n",
    "max_chunk = cipher._key.size_in_bytes() - 42\n",
    "\n",
    "# Encrypt\n",
    "cbc_enc_std_start = time.time()\n",
    "enc_data = bytearray()\n",
    "for i in range(0, len(idat_data), max_chunk):\n",
    "    chunk = idat_data[i:i+max_chunk]\n",
    "    enc_data.extend(cipher.encrypt(chunk))\n",
    "cbc_enc_std_end = time.time()\n",
    "\n",
    "# Decrypt\n",
    "cbc_dec_std_start = time.time()\n",
    "dec_data = bytearray()\n",
    "keysize_bytes = cipher._key.size_in_bytes()\n",
    "for i in range(0, len(enc_data), keysize_bytes):\n",
    "    chunk = enc_data[i:i+keysize_bytes]\n",
    "    dec_data.extend(cipher.decrypt(chunk))\n",
    "cbc_dec_std_end = time.time()\n",
    "\n",
    "print(f\"\"\"Python implementation time decrypt: {cbc_enc_std_end - cbc_enc_std_start\n",
    ":>4.3f} ms encrypt: {cbc_dec_std_end - cbc_dec_std_start:>4.3f} ms\n",
    "Custom implementation time decrypt: {cbc_enc_end - cbc_enc_start\n",
    ":>4.3f} ms encrypt: {cbc_dec_end - cbc_dec_start:>4.3f} ms\"\"\")"
   ]
  },
  {
   "cell_type": "markdown",
   "id": "535bb500",
   "metadata": {},
   "source": [
    "##### Porównanie"
   ]
  },
  {
   "cell_type": "code",
   "execution_count": 27,
   "id": "a62f6089",
   "metadata": {},
   "outputs": [
    {
     "data": {
      "text/html": [
       "\n",
       "    <style>\n",
       "        table {\n",
       "            margin: auto;\n",
       "        }\n",
       "        th {\n",
       "            text-align: center;\n",
       "            padding-bottom: 10px;\n",
       "            font-size: 16px;\n",
       "        }\n",
       "        td {\n",
       "            text-align: center;\n",
       "            border: 1px inset grey;\n",
       "        }\n",
       "        p {\n",
       "            text-align: center;\n",
       "        }\n",
       "    </style>\n",
       "    <p>Nasza implementacja Keysize: 1024</p>\n",
       "    <table>\n",
       "    <tr>\n",
       "        <th>Original</th>\n",
       "        <th>Encrypted</th>\n",
       "        <th>Decrypted</th>\n",
       "    </tr>\n",
       "    <tr>\n",
       "        <td><img src=\"media/dice.png\" width=\"300\"></td>\n",
       "        <td><img src=\"files/20250614173107_dice_encrypted.png\" width=\"300\"></td>\n",
       "        <td><img src=\"files/20250614173107_dice_decrypted.png\" width=\"300\"></td>\n",
       "    </tr>\n",
       "    </table>\n",
       "    "
      ],
      "text/plain": [
       "<IPython.core.display.HTML object>"
      ]
     },
     "metadata": {},
     "output_type": "display_data"
    },
    {
     "data": {
      "text/html": [
       "\n",
       "    <style>\n",
       "        table {\n",
       "            margin: auto;\n",
       "        }\n",
       "        th {\n",
       "            text-align: center;\n",
       "            padding-bottom: 10px;\n",
       "            font-size: 16px;\n",
       "        }\n",
       "        td {\n",
       "            text-align: center;\n",
       "            border: 1px inset grey;\n",
       "        }\n",
       "        p {\n",
       "            text-align: center;\n",
       "        }\n",
       "    </style>\n",
       "    <p>Implementacja PyCryptodome Keysize: 1024</p>\n",
       "    <table>\n",
       "    <tr>\n",
       "        <th>Original</th>\n",
       "        <th>Encrypted</th>\n",
       "        <th>Decrypted</th>\n",
       "    </tr>\n",
       "    <tr>\n",
       "        <td><img src=\"media/dice.png\" width=\"300\"></td>\n",
       "        <td><img src=\"files/20250614173115_dice_encrypted.png\" width=\"300\"></td>\n",
       "        <td><img src=\"files/20250614173115_dice_decrypted.png\" width=\"300\"></td>\n",
       "    </tr>\n",
       "    </table>\n",
       "    "
      ],
      "text/plain": [
       "<IPython.core.display.HTML object>"
      ]
     },
     "metadata": {},
     "output_type": "display_data"
    }
   ],
   "source": [
    "\n",
    "std_encrypted_chunks = [PNG.buildNewIDAT(enc_data)]\n",
    "std_decrypted_chunks = [PNG.buildNewIDAT(dec_data)]\n",
    "anc_chunks = png.getAncillaryChunks()\n",
    "crit_chunks = png.getCriticalChunks()\n",
    "_, crit_no_idat = png.getDataChunks(crit_chunks)\n",
    "\n",
    "timestamp = RSA.getTimeStamp()\n",
    "std_enc_path = RSA.writeEncrypted(\n",
    "    png.buildFromChunks(anc_chunks, crit_no_idat, std_encrypted_chunks),\n",
    "    img_path, timestamp\n",
    ")\n",
    "time.sleep(1)\n",
    "std_dec_path = RSA.writeDecrypted(\n",
    "    png.buildFromChunks(anc_chunks, crit_no_idat, std_decrypted_chunks),\n",
    "    std_enc_path\n",
    ")\n",
    "\n",
    "visualiseResults(\n",
    "    img_path,\n",
    "    cbc_encrypted_img_path,\n",
    "    cbc_decrypted_img_path,\n",
    "    keysize,\n",
    "    \"Nasza implementacja\"\n",
    ")\n",
    "\n",
    "visualiseResults(\n",
    "    img_path,\n",
    "    std_enc_path,\n",
    "    std_dec_path,\n",
    "    keysize,\n",
    "    \"Implementacja PyCryptodome\"\n",
    ")"
   ]
  },
  {
   "cell_type": "markdown",
>>>>>>> bf2b962 (Zmiana klucza)
   "id": "ddcdf23f",
   "metadata": {},
   "source": [
    "## Porównanie plików"
   ]
  },
  {
   "cell_type": "code",
<<<<<<< HEAD
   "execution_count": 19,
=======
   "execution_count": 28,
>>>>>>> bf2b962 (Zmiana klucza)
   "id": "b4462f1e",
   "metadata": {},
   "outputs": [
    {
     "name": "stdout",
     "output_type": "stream",
     "text": [
      "File: dice.png\n",
      "Crit chunks: 3 Anc chunks: 0\n",
      "Crit chunk sizes: \n",
      "IHDR: 13\n",
      "IDAT: 179502\n",
      "IEND: 0\n",
      "File: test.png\n",
      "Crit chunks: 10 Anc chunks: 8\n",
      "Crit chunk sizes: \n",
      "IHDR: 13\n",
      "IDAT: 8192\n",
      "IDAT: 8192\n",
      "IDAT: 8192\n",
      "IDAT: 8192\n",
      "IDAT: 8192\n",
      "IDAT: 8192\n",
      "IDAT: 8192\n",
      "IDAT: 7564\n",
      "IEND: 0\n",
      "File: plte.png\n",
      "Crit chunks: 5 Anc chunks: 6\n",
      "Crit chunk sizes: \n",
      "IHDR: 13\n",
      "PLTE: 768\n",
      "IDAT: 8192\n",
      "IDAT: 2484\n",
      "IEND: 0\n"
     ]
    }
   ],
   "source": [
    "files = ['dice', 'test', 'plte']\n",
    "# files = ['dice']\n",
    "\n",
    "for file in files:\n",
    "    print(f\"File: {file}.png\")\n",
    "    png = PNG(f\"media/{file}.png\")\n",
    "    anc_chunks = png.getAncillaryChunks()\n",
    "    crit_chunks = png.getCriticalChunks()\n",
    "    print(f\"Crit chunks: {len(crit_chunks)} Anc chunks: {len(anc_chunks)}\")\n",
    "    print(\"Crit chunk sizes: \")\n",
    "    for chunk in crit_chunks:\n",
    "        data_len = int.from_bytes(chunk[:4])\n",
    "        chunk_type = chunk[4:8].decode('utf-8')\n",
    "        print(f\"{chunk_type}: {data_len}\")\n"
   ]
  },
  {
   "cell_type": "code",
   "execution_count": 29,
   "id": "ee6a4f08",
   "metadata": {},
   "outputs": [
    {
     "name": "stdout",
     "output_type": "stream",
     "text": [
      "orig: 179514 encrypted: 185324 decrypted: 179514\n"
     ]
    }
   ],
   "source": [
    "for i, j, k in zip(idat_chunks, encrypted_idat_chunks, decrypted_idat_chunks):\n",
    "    print(f\"orig: {len(i)} encrypted: {len(j)} decrypted: {len(k)}\")"
   ]
  }
 ],
 "metadata": {
  "kernelspec": {
   "display_name": "Python 3",
   "language": "python",
   "name": "python3"
  },
  "language_info": {
   "codemirror_mode": {
    "name": "ipython",
    "version": 3
   },
   "file_extension": ".py",
   "mimetype": "text/x-python",
   "name": "python",
   "nbconvert_exporter": "python",
   "pygments_lexer": "ipython3",
<<<<<<< HEAD
   "version": "3.12.6"
=======
   "version": "3.12.0"
>>>>>>> bf2b962 (Zmiana klucza)
  }
 },
 "nbformat": 4,
 "nbformat_minor": 5
}
