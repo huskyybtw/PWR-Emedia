{
 "cells": [
  {
   "cell_type": "markdown",
   "id": "b54da803",
   "metadata": {},
   "source": [
    "## Background code"
   ]
  },
  {
   "cell_type": "markdown",
   "id": "2866dcd8",
   "metadata": {},
   "source": [
    "#### Imports"
   ]
  },
  {
   "cell_type": "code",
   "execution_count": 1,
   "id": "5caed0c6",
   "metadata": {},
   "outputs": [],
   "source": [
    "import os\n",
    "import zlib\n",
    "import time\n",
    "from IPython.display import display, HTML\n",
    "from Cryptodome.PublicKey import RSA as PyCryptoRSA\n",
    "from Cryptodome.Cipher import PKCS1_OAEP\n",
    "from classes.rsa import RSA \n",
    "from classes.png import PNG "
   ]
  },
  {
   "cell_type": "markdown",
   "id": "f282b648",
   "metadata": {},
   "source": [
    "#### Helpers"
   ]
  },
  {
   "cell_type": "code",
   "execution_count": 2,
   "id": "e5203ee4",
   "metadata": {},
   "outputs": [],
   "source": [
    "def visualiseResults(img_path, encrypt_img_path, decrypt_img_path, keysize, title=None):\n",
    "    if title is not None:\n",
    "        title += ' '\n",
    "    else:\n",
    "        title = ''\n",
    "    html = f\"\"\"\n",
    "    <style>\n",
    "        table {{\n",
    "            margin: auto;\n",
    "        }}\n",
    "        th {{\n",
    "            text-align: center;\n",
    "            padding-bottom: 10px;\n",
    "            font-size: 16px;\n",
    "        }}\n",
    "        td {{\n",
    "            text-align: center;\n",
    "            border: 1px inset grey;\n",
    "        }}\n",
    "        p {{\n",
    "            text-align: center;\n",
    "        }}\n",
    "    </style>\n",
    "    <p>{title}Keysize: {keysize}</p>\n",
    "    <table>\n",
    "    <tr>\n",
    "        <th>Original</th>\n",
    "        <th>Encrypted</th>\n",
    "        <th>Decrypted</th>\n",
    "    </tr>\n",
    "    <tr>\n",
    "        <td><img src=\"{img_path}\" width=\"300\"></td>\n",
    "        <td><img src=\"{encrypt_img_path}\" width=\"300\"></td>\n",
    "        <td><img src=\"{decrypt_img_path}\" width=\"300\"></td>\n",
    "    </tr>\n",
    "    </table>\n",
    "    \"\"\"\n",
    "    display(HTML(html))"
   ]
  },
  {
   "cell_type": "markdown",
   "id": "ed1168f5",
   "metadata": {},
   "source": [
    "#### Keypair generation"
   ]
  },
  {
   "cell_type": "code",
   "execution_count": 3,
   "id": "b6642fce",
   "metadata": {},
   "outputs": [
    {
     "name": "stdout",
     "output_type": "stream",
     "text": [
      "((18606593754577973737274742585146986973921517947633579073572979068099238824819, 65537), (18606593754577973737274742585146986973921517947633579073572979068099238824819, 2287177003629707744136675866547814624705492336537239196558556635967327016833))\n"
     ]
    }
   ],
   "source": [
    "keysize = 256\n",
    "keypair = RSA.generateKeypair(keysize)\n",
    "print(keypair)"
   ]
  },
  {
   "cell_type": "markdown",
   "id": "5cf38660",
   "metadata": {},
   "source": [
    "#### Path to image"
   ]
  },
  {
   "cell_type": "code",
   "execution_count": 4,
   "id": "bf29887f",
   "metadata": {},
   "outputs": [],
   "source": [
    "filename = \"dice.png\"\n",
    "img_path = f\"media/{filename}\""
   ]
  },
  {
   "cell_type": "markdown",
   "id": "d6452924",
   "metadata": {},
   "source": [
    "## Porównanie szyfrowania danych bez oraz z dekompresją danych"
   ]
  },
  {
   "cell_type": "markdown",
   "id": "d9a59fdd",
   "metadata": {},
   "source": [
    "### Szyfrowanie po dekompresji danych z kompresją przed zapisaniem (całość) dla dwóch rozmiarów kluczy - 16-bit & 512-bit "
   ]
  },
  {
   "cell_type": "code",
   "execution_count": 5,
   "id": "bd90e789",
   "metadata": {},
   "outputs": [
    {
     "name": "stdout",
     "output_type": "stream",
     "text": [
      "512-bit Keypair - ((1314292550055105692352073708100263191749246931017880110513977270315538429857030229404829795570130338216438355530517697613484159977080883228022209825078893, 65537), (1314292550055105692352073708100263191749246931017880110513977270315538429857030229404829795570130338216438355530517697613484159977080883228022209825078893, 671755764670275956737681202988151977265125416914200071133660323538758118084695634861578534862394323000078728379067803208430983201398979562983094978687741))\n",
      " 16-bit Keypair - ((3013, 65537), (3013, 153))\n"
     ]
    }
   ],
   "source": [
    "keypair512 = RSA.generateKeypair(512)\n",
    "keypair16 = RSA.generateKeypair(16)\n",
    "print(f\"512-bit Keypair - {keypair512}\")\n",
    "print(f\" 16-bit Keypair - {keypair16}\")"
   ]
  },
  {
   "cell_type": "markdown",
   "id": "bca33679",
   "metadata": {},
   "source": [
    "#### Encryption"
   ]
  },
  {
   "cell_type": "code",
   "execution_count": 6,
   "id": "d7f57a2f",
   "metadata": {},
   "outputs": [],
   "source": [
    "##########################################################################\n",
    "###########################512-bit encrypt################################\n",
    "##########################################################################\n",
    "\n",
    "png = PNG(img_path)\n",
    "png_name = os.path.basename(img_path)\n",
    "crit_chunks = png.getCriticalChunks()\n",
    "anc_chunks = png.getAncillaryChunks()\n",
    "idat_chunks, crit_chunks_no_idat = png.getDataChunks(crit_chunks)\n",
    "pubkey = keypair512[0]\n",
    "\n",
    "chunk_size = len(idat_chunks[0])\n",
    "combined_data = PNG.concatDataChunks(idat_chunks)\n",
    "\n",
    "try:\n",
    "    decompressed_data = zlib.decompress(combined_data)\n",
    "except zlib.error:\n",
    "    decompressed_data = combined_data\n",
    "\n",
    "\n",
    "encrypted_uncompressed = RSA.encryptData(decompressed_data, pubkey)\n",
    "encrypted_compressed = zlib.compress(encrypted_uncompressed)\n",
    "new_chunk = PNG.buildNewIDAT(encrypted_compressed)\n",
    "\n",
    "encrypted_idat_chunks = [new_chunk]\n",
    "all_chunks = png.buildFromChunks(\n",
    "    anc_chunks, crit_chunks_no_idat, encrypted_idat_chunks)\n",
    "\n",
    "timestamp = RSA.getTimeStamp()\n",
    "encrypt_img_path512 = RSA.writeEncrypted(all_chunks, png_name, timestamp)\n",
    "keyfile512 = RSA.saveKeys(keypair512, png_name, timestamp)\n",
    "\n",
    "time.sleep(1)\n",
    "##########################################################################\n",
    "############################16-bit encrypt################################\n",
    "##########################################################################\n",
    "\n",
    "png = PNG(img_path)\n",
    "png_name = os.path.basename(img_path)\n",
    "crit_chunks = png.getCriticalChunks()\n",
    "anc_chunks = png.getAncillaryChunks()\n",
    "idat_chunks, crit_chunks_no_idat = png.getDataChunks(crit_chunks)\n",
    "pubkey = keypair16[0]\n",
    "\n",
    "chunk_size = len(idat_chunks[0])\n",
    "combined_data = PNG.concatDataChunks(idat_chunks)\n",
    "\n",
    "try:\n",
    "    decompressed_data = zlib.decompress(combined_data)\n",
    "except zlib.error:\n",
    "    decompressed_data = combined_data\n",
    "\n",
    "\n",
    "encrypted_uncompressed = RSA.encryptData(decompressed_data, pubkey)\n",
    "encrypted_compressed = zlib.compress(encrypted_uncompressed)\n",
    "new_chunk = PNG.buildNewIDAT(encrypted_compressed)\n",
    "\n",
    "encrypted_idat_chunks = [new_chunk]\n",
    "all_chunks = png.buildFromChunks(\n",
    "    anc_chunks, crit_chunks_no_idat, encrypted_idat_chunks)\n",
    "\n",
    "timestamp = RSA.getTimeStamp()\n",
    "encrypt_img_path16 = RSA.writeEncrypted(all_chunks, png_name, timestamp)\n",
    "keyfile16 = RSA.saveKeys(keypair16, png_name, timestamp)\n"
   ]
  },
  {
   "cell_type": "markdown",
   "id": "72de755a",
   "metadata": {},
   "source": [
    "#### Decryption\n"
   ]
  },
  {
   "cell_type": "code",
   "execution_count": 7,
   "id": "69e866b3",
   "metadata": {},
   "outputs": [],
   "source": [
    "##########################################################################\n",
    "############################16-bit decrypt################################\n",
    "##########################################################################\n",
    "\n",
    "keys = RSA.loadKeys(keyfile16)\n",
    "privkey = keys[1]\n",
    "\n",
    "png = PNG(encrypt_img_path16)\n",
    "png_name = os.path.basename(encrypt_img_path16)\n",
    "crit_chunks = png.getCriticalChunks()\n",
    "anc_chunks = png.getAncillaryChunks()\n",
    "encrypted_idat_chunks, crit_chunks_no_idat = png.getDataChunks(crit_chunks)\n",
    "\n",
    "encrypted_idat_chunk = encrypted_idat_chunks[0]\n",
    "\n",
    "encrypted_decompressed = zlib.decompress(encrypted_idat_chunk[8:-4])\n",
    "decrypted_decompressed = RSA.decryptData(encrypted_decompressed, privkey)\n",
    "decrypted_recompressed = zlib.compress(decrypted_decompressed)\n",
    "\n",
    "decrypted_idat_chunks = []\n",
    "for i in range(0, len(decrypted_recompressed), chunk_size):\n",
    "    chunk_data = decrypted_recompressed[i:i+chunk_size]\n",
    "\n",
    "    new_chunk = PNG.buildNewIDAT(chunk_data)\n",
    "    decrypted_idat_chunks.append(new_chunk)\n",
    "\n",
    "all_chunks = png.buildFromChunks(\n",
    "    anc_chunks, crit_chunks_no_idat, decrypted_idat_chunks)\n",
    "\n",
    "decrypt_img_path16 = RSA.writeDecrypted(all_chunks, png_name)\n",
    "\n",
    "##########################################################################\n",
    "###########################512-bit decrypt################################\n",
    "##########################################################################\n",
    "\n",
    "keys = RSA.loadKeys(keyfile512)\n",
    "privkey = keys[1]\n",
    "\n",
    "png = PNG(encrypt_img_path512)\n",
    "png_name = os.path.basename(encrypt_img_path512)\n",
    "crit_chunks = png.getCriticalChunks()\n",
    "anc_chunks = png.getAncillaryChunks()\n",
    "encrypted_idat_chunks, crit_chunks_no_idat = png.getDataChunks(crit_chunks)\n",
    "\n",
    "encrypted_idat_chunk = encrypted_idat_chunks[0]\n",
    "\n",
    "encrypted_decompressed = zlib.decompress(encrypted_idat_chunk[8:-4])\n",
    "decrypted_decompressed = RSA.decryptData(encrypted_decompressed, privkey)\n",
    "decrypted_recompressed = zlib.compress(decrypted_decompressed)\n",
    "\n",
    "decrypted_idat_chunks = []\n",
    "for i in range(0, len(decrypted_recompressed), chunk_size):\n",
    "    chunk_data = decrypted_recompressed[i:i+chunk_size]\n",
    "\n",
    "    new_chunk = PNG.buildNewIDAT(chunk_data)\n",
    "    decrypted_idat_chunks.append(new_chunk)\n",
    "\n",
    "all_chunks = png.buildFromChunks(\n",
    "    anc_chunks, crit_chunks_no_idat, decrypted_idat_chunks)\n",
    "\n",
    "decrypt_img_path512 = RSA.writeDecrypted(all_chunks, png_name)"
   ]
  },
  {
   "cell_type": "markdown",
   "id": "d0a09c67",
   "metadata": {},
   "source": [
    "#### Porównanie"
   ]
  },
  {
   "cell_type": "code",
   "execution_count": 8,
   "id": "0461e73a",
   "metadata": {},
   "outputs": [
    {
     "data": {
      "text/html": [
       "\n",
       "    <style>\n",
       "        table {\n",
       "            margin: auto;\n",
       "        }\n",
       "        th {\n",
       "            text-align: center;\n",
       "            padding-bottom: 10px;\n",
       "            font-size: 16px;\n",
       "        }\n",
       "        td {\n",
       "            text-align: center;\n",
       "            border: 1px inset grey;\n",
       "        }\n",
       "        p {\n",
       "            text-align: center;\n",
       "        }\n",
       "    </style>\n",
       "    <p>Keysize: 16</p>\n",
       "    <table>\n",
       "    <tr>\n",
       "        <th>Original</th>\n",
       "        <th>Encrypted</th>\n",
       "        <th>Decrypted</th>\n",
       "    </tr>\n",
       "    <tr>\n",
       "        <td><img src=\"media/dice.png\" width=\"300\"></td>\n",
       "        <td><img src=\"files/20250614221346_dice_encrypted.png\" width=\"300\"></td>\n",
       "        <td><img src=\"files/20250614221346_dice_decrypted.png\" width=\"300\"></td>\n",
       "    </tr>\n",
       "    </table>\n",
       "    "
      ],
      "text/plain": [
       "<IPython.core.display.HTML object>"
      ]
     },
     "metadata": {},
     "output_type": "display_data"
    },
    {
     "data": {
      "text/html": [
       "\n",
       "    <style>\n",
       "        table {\n",
       "            margin: auto;\n",
       "        }\n",
       "        th {\n",
       "            text-align: center;\n",
       "            padding-bottom: 10px;\n",
       "            font-size: 16px;\n",
       "        }\n",
       "        td {\n",
       "            text-align: center;\n",
       "            border: 1px inset grey;\n",
       "        }\n",
       "        p {\n",
       "            text-align: center;\n",
       "        }\n",
       "    </style>\n",
       "    <p>Keysize: 512</p>\n",
       "    <table>\n",
       "    <tr>\n",
       "        <th>Original</th>\n",
       "        <th>Encrypted</th>\n",
       "        <th>Decrypted</th>\n",
       "    </tr>\n",
       "    <tr>\n",
       "        <td><img src=\"media/dice.png\" width=\"300\"></td>\n",
       "        <td><img src=\"files/20250614221345_dice_encrypted.png\" width=\"300\"></td>\n",
       "        <td><img src=\"files/20250614221345_dice_decrypted.png\" width=\"300\"></td>\n",
       "    </tr>\n",
       "    </table>\n",
       "    "
      ],
      "text/plain": [
       "<IPython.core.display.HTML object>"
      ]
     },
     "metadata": {},
     "output_type": "display_data"
    }
   ],
   "source": [
    "visualiseResults(img_path, encrypt_img_path16, decrypt_img_path16, 16)\n",
    "visualiseResults(img_path, encrypt_img_path512, decrypt_img_path512, 512)"
   ]
  },
  {
   "cell_type": "markdown",
   "id": "43f2d2aa",
   "metadata": {},
   "source": [
    "### Szyfrowanie po dekompresji bez kompresji przed zapisaniem (całość)"
   ]
  },
  {
   "cell_type": "markdown",
   "id": "a3110cf4",
   "metadata": {},
   "source": [
    "#### Encrypt"
   ]
  },
  {
   "cell_type": "code",
   "execution_count": 9,
   "id": "f53e2e80",
   "metadata": {},
   "outputs": [],
   "source": [
    "png = PNG(img_path)\n",
    "png_name = os.path.basename(img_path)\n",
    "crit_chunks = png.getCriticalChunks()\n",
    "anc_chunks = png.getAncillaryChunks()\n",
    "idat_chunks, crit_chunks_no_idat = png.getDataChunks(crit_chunks)\n",
    "pubkey = keypair[0]\n",
    "\n",
    "chunk_size = len(idat_chunks[0])\n",
    "combined_data = PNG.concatDataChunks(idat_chunks)\n",
    "\n",
    "try:\n",
    "    decompressed_data = zlib.decompress(combined_data)\n",
    "except zlib.error:\n",
    "    decompressed_data = combined_data\n",
    "\n",
    "encrypted_idat_chunks = []\n",
    "\n",
    "encrypted_uncompressed = RSA.encryptData(decompressed_data, pubkey)\n",
    "\n",
    "new_chunk = PNG.buildNewIDAT(encrypted_uncompressed)\n",
    "encrypted_idat_chunks.append(new_chunk)\n",
    "\n",
    "all_chunks = png.buildFromChunks(\n",
    "    anc_chunks, crit_chunks_no_idat, encrypted_idat_chunks)\n",
    "\n",
    "timestamp = RSA.getTimeStamp()\n",
    "encrypt_img_path = RSA.writeEncrypted(all_chunks, png_name, timestamp)\n",
    "keyfile = RSA.saveKeys(keypair, png_name, timestamp)"
   ]
  },
  {
   "cell_type": "markdown",
   "id": "be424b28",
   "metadata": {},
   "source": [
    "#### Decrypt"
   ]
  },
  {
   "cell_type": "code",
   "execution_count": 10,
   "id": "310025e3",
   "metadata": {},
   "outputs": [],
   "source": [
    "keys = RSA.loadKeys(keyfile)\n",
    "privkey = keys[1]\n",
    "\n",
    "png = PNG(encrypt_img_path)\n",
    "png_name = os.path.basename(encrypt_img_path)\n",
    "crit_chunks = png.getCriticalChunks()\n",
    "anc_chunks = png.getAncillaryChunks()\n",
    "encrypted_idat_chunks, crit_chunks_no_idat = png.getDataChunks(crit_chunks)\n",
    "\n",
    "encrypted_idat_chunk = encrypted_idat_chunks[0]\n",
    "\n",
    "decrypted_decompressed = RSA.decryptData(encrypted_idat_chunk[8:-4], privkey)\n",
    "decrypted_recompressed = zlib.compress(decrypted_decompressed)\n",
    "\n",
    "decrypted_idat_chunks = []\n",
    "for i in range(0, len(decrypted_recompressed), chunk_size):\n",
    "    chunk_data = decrypted_recompressed[i:i+chunk_size]\n",
    "\n",
    "    new_chunk = PNG.buildNewIDAT(chunk_data)\n",
    "    decrypted_idat_chunks.append(new_chunk)\n",
    "\n",
    "all_chunks = png.buildFromChunks(\n",
    "    anc_chunks, crit_chunks_no_idat, decrypted_idat_chunks)\n",
    "\n",
    "decrypt_img_path = RSA.writeDecrypted(all_chunks, png_name)"
   ]
  },
  {
   "cell_type": "markdown",
   "id": "5a09a9f3",
   "metadata": {},
   "source": [
    "#### Porównanie"
   ]
  },
  {
   "cell_type": "code",
   "execution_count": 11,
   "id": "44f3a167",
   "metadata": {},
   "outputs": [
    {
     "data": {
      "text/html": [
       "\n",
       "    <style>\n",
       "        table {\n",
       "            margin: auto;\n",
       "        }\n",
       "        th {\n",
       "            text-align: center;\n",
       "            padding-bottom: 10px;\n",
       "            font-size: 16px;\n",
       "        }\n",
       "        td {\n",
       "            text-align: center;\n",
       "            border: 1px inset grey;\n",
       "        }\n",
       "        p {\n",
       "            text-align: center;\n",
       "        }\n",
       "    </style>\n",
       "    <p>Keysize: 256</p>\n",
       "    <table>\n",
       "    <tr>\n",
       "        <th>Original</th>\n",
       "        <th>Encrypted</th>\n",
       "        <th>Decrypted</th>\n",
       "    </tr>\n",
       "    <tr>\n",
       "        <td><img src=\"media/dice.png\" width=\"300\"></td>\n",
       "        <td><img src=\"files/20250614221351_dice_encrypted.png\" width=\"300\"></td>\n",
       "        <td><img src=\"files/20250614221351_dice_decrypted.png\" width=\"300\"></td>\n",
       "    </tr>\n",
       "    </table>\n",
       "    "
      ],
      "text/plain": [
       "<IPython.core.display.HTML object>"
      ]
     },
     "metadata": {},
     "output_type": "display_data"
    }
   ],
   "source": [
    "visualiseResults(img_path, encrypt_img_path, decrypt_img_path, keysize)"
   ]
  },
  {
   "cell_type": "markdown",
   "id": "191a801d",
   "metadata": {},
   "source": [
    "### Szyfrowanie bez dekompresji danych"
   ]
  },
  {
   "cell_type": "markdown",
   "id": "376a5eae",
   "metadata": {},
   "source": [
    "#### Jako całość"
   ]
  },
  {
   "cell_type": "markdown",
   "id": "de6ad41b",
   "metadata": {},
   "source": [
    "##### Encryption"
   ]
  },
  {
   "cell_type": "code",
   "execution_count": 12,
   "id": "e0db3438",
   "metadata": {},
   "outputs": [],
   "source": [
    "png = PNG(img_path)\n",
    "png_name = os.path.basename(img_path)\n",
    "crit_chunks = png.getCriticalChunks()\n",
    "anc_chunks = png.getAncillaryChunks()\n",
    "idat_chunks, crit_chunks_no_idat = png.getDataChunks(crit_chunks)\n",
    "pubkey = keypair[0]\n",
    "\n",
    "chunk_size = len(idat_chunks[0])\n",
    "combined_data = PNG.concatDataChunks(idat_chunks)\n",
    "\n",
    "encrypted_data = RSA.encryptData(combined_data, pubkey)\n",
    "new_chunk = PNG.buildNewIDAT(encrypted_data)\n",
    "\n",
    "encrypted_idat_chunks = [new_chunk]\n",
    "all_chunks = png.buildFromChunks(\n",
    "    anc_chunks, crit_chunks_no_idat, encrypted_idat_chunks)\n",
    "\n",
    "timestamp = RSA.getTimeStamp()\n",
    "encrypt_img_path = RSA.writeEncrypted(all_chunks, png_name, timestamp)\n",
    "keyfile = RSA.saveKeys(keypair, png_name, timestamp)"
   ]
  },
  {
   "cell_type": "markdown",
   "id": "d857580e",
   "metadata": {},
   "source": [
    "##### Decryption"
   ]
  },
  {
   "cell_type": "code",
   "execution_count": 13,
   "id": "fa8e478a",
   "metadata": {},
   "outputs": [],
   "source": [
    "keys = RSA.loadKeys(keyfile)\n",
    "privkey = keys[1]\n",
    "\n",
    "png = PNG(encrypt_img_path)\n",
    "png_name = os.path.basename(encrypt_img_path)\n",
    "\n",
    "crit_chunks = png.getCriticalChunks()\n",
    "anc_chunks = png.getAncillaryChunks()\n",
    "encrypted_idat_chunks, crit_chunks_no_idat = png.getDataChunks(crit_chunks)\n",
    "encrypted_idat_chunk = encrypted_idat_chunks[0]\n",
    "\n",
    "decrypted_data = RSA.decryptData(encrypted_idat_chunk[8:-4], privkey)\n",
    "\n",
    "decrypted_idat_chunks = []\n",
    "for i in range(0, len(decrypted_data), chunk_size):\n",
    "    chunk_data = decrypted_data[i:i+chunk_size]\n",
    "\n",
    "    new_chunk = PNG.buildNewIDAT(chunk_data)\n",
    "    decrypted_idat_chunks.append(new_chunk)\n",
    "\n",
    "all_chunks = png.buildFromChunks(\n",
    "    anc_chunks, crit_chunks_no_idat, decrypted_idat_chunks)\n",
    "\n",
    "decrypt_img_path = RSA.writeDecrypted(all_chunks, png_name)"
   ]
  },
  {
   "cell_type": "markdown",
   "id": "0208b149",
   "metadata": {},
   "source": [
    "#### Porównanie"
   ]
  },
  {
   "cell_type": "code",
   "execution_count": 14,
   "id": "8ca522ce",
   "metadata": {},
   "outputs": [
    {
     "data": {
      "text/html": [
       "\n",
       "    <style>\n",
       "        table {\n",
       "            margin: auto;\n",
       "        }\n",
       "        th {\n",
       "            text-align: center;\n",
       "            padding-bottom: 10px;\n",
       "            font-size: 16px;\n",
       "        }\n",
       "        td {\n",
       "            text-align: center;\n",
       "            border: 1px inset grey;\n",
       "        }\n",
       "        p {\n",
       "            text-align: center;\n",
       "        }\n",
       "    </style>\n",
       "    <p>Keysize: 256</p>\n",
       "    <table>\n",
       "    <tr>\n",
       "        <th>Original</th>\n",
       "        <th>Encrypted</th>\n",
       "        <th>Decrypted</th>\n",
       "    </tr>\n",
       "    <tr>\n",
       "        <td><img src=\"media/dice.png\" width=\"300\"></td>\n",
       "        <td><img src=\"files/20250614221353_dice_encrypted.png\" width=\"300\"></td>\n",
       "        <td><img src=\"files/20250614221353_dice_decrypted.png\" width=\"300\"></td>\n",
       "    </tr>\n",
       "    </table>\n",
       "    "
      ],
      "text/plain": [
       "<IPython.core.display.HTML object>"
      ]
     },
     "metadata": {},
     "output_type": "display_data"
    }
   ],
   "source": [
    "visualiseResults(img_path, encrypt_img_path, decrypt_img_path, keysize)"
   ]
  },
  {
   "cell_type": "markdown",
   "id": "f9a15c71",
   "metadata": {},
   "source": [
    "#### Per chunki (standard ecb)"
   ]
  },
  {
   "cell_type": "markdown",
   "id": "c65fe9a2",
   "metadata": {},
   "source": [
    "##### Encryption"
   ]
  },
  {
   "cell_type": "code",
   "execution_count": 15,
   "id": "bc814a19",
   "metadata": {},
   "outputs": [],
   "source": [
    "encrypt_img_path, keyfile = RSA.encryptFileECB(img_path, keypair)"
   ]
  },
  {
   "cell_type": "markdown",
   "id": "776594ee",
   "metadata": {},
   "source": [
    "##### Decryption"
   ]
  },
  {
   "cell_type": "code",
   "execution_count": 16,
   "id": "d5c03c44",
   "metadata": {},
   "outputs": [],
   "source": [
    "decrypt_img_path = RSA.decryptFileECB(encrypt_img_path, keyfile)"
   ]
  },
  {
   "cell_type": "markdown",
   "id": "aac0250d",
   "metadata": {},
   "source": [
    "#### Porównanie"
   ]
  },
  {
   "cell_type": "code",
   "execution_count": 17,
   "id": "d142a635",
   "metadata": {},
   "outputs": [
    {
     "data": {
      "text/html": [
       "\n",
       "    <style>\n",
       "        table {\n",
       "            margin: auto;\n",
       "        }\n",
       "        th {\n",
       "            text-align: center;\n",
       "            padding-bottom: 10px;\n",
       "            font-size: 16px;\n",
       "        }\n",
       "        td {\n",
       "            text-align: center;\n",
       "            border: 1px inset grey;\n",
       "        }\n",
       "        p {\n",
       "            text-align: center;\n",
       "        }\n",
       "    </style>\n",
       "    <p>Keysize: 256</p>\n",
       "    <table>\n",
       "    <tr>\n",
       "        <th>Original</th>\n",
       "        <th>Encrypted</th>\n",
       "        <th>Decrypted</th>\n",
       "    </tr>\n",
       "    <tr>\n",
       "        <td><img src=\"media/dice.png\" width=\"300\"></td>\n",
       "        <td><img src=\"files/ECB_dice_encrypted.png\" width=\"300\"></td>\n",
       "        <td><img src=\"files/ECB_dice_decrypted.png\" width=\"300\"></td>\n",
       "    </tr>\n",
       "    </table>\n",
       "    "
      ],
      "text/plain": [
       "<IPython.core.display.HTML object>"
      ]
     },
     "metadata": {},
     "output_type": "display_data"
    }
   ],
   "source": [
    "visualiseResults(img_path, encrypt_img_path, decrypt_img_path, keysize)"
   ]
  },
  {
   "cell_type": "markdown",
   "id": "9cd24a2a",
   "metadata": {},
   "source": [
    "## Porównanie metod szyfrowania: ECB (Electronic CodeBook) oraz CBC (Cypher Clock Chaining)"
   ]
  },
  {
   "cell_type": "markdown",
   "id": "95a8facf",
   "metadata": {},
   "source": [
    "### ECB"
   ]
  },
  {
   "cell_type": "markdown",
   "id": "dcd6a2dd",
   "metadata": {},
   "source": [
    "#### Encryption"
   ]
  },
  {
   "cell_type": "code",
   "execution_count": 18,
   "id": "eab54718",
   "metadata": {},
   "outputs": [
    {
     "name": "stdout",
     "output_type": "stream",
     "text": [
      "Original png: media/dice.png\n",
      "Encrypted png: files/ECB_dice_encrypted.png\n",
      "Keyfile: files/ECB_dice_keys.txt\n",
      "\n"
     ]
    }
   ],
   "source": [
    "ecb_encrypted_img_path, keyfile_path =  RSA.encryptFileECB(img_path, keypair)\n",
    "\n",
    "print(f\"\"\"Original png: {img_path}\n",
    "Encrypted png: {ecb_encrypted_img_path}\n",
    "Keyfile: {keyfile_path}\n",
    "\"\"\")"
   ]
  },
  {
   "cell_type": "markdown",
   "id": "5ada16b2",
   "metadata": {},
   "source": [
    "#### Decryption"
   ]
  },
  {
   "cell_type": "code",
   "execution_count": 19,
   "id": "4599d7d7",
   "metadata": {},
   "outputs": [
    {
     "name": "stdout",
     "output_type": "stream",
     "text": [
      "Decrypted png: files/ECB_dice_decrypted.png\n"
     ]
    }
   ],
   "source": [
    "ecb_decrypted_img_path =  RSA.decryptFileECB(\n",
    "    ecb_encrypted_img_path, keyfile_path)\n",
    "\n",
    "print(f\"Decrypted png: {ecb_decrypted_img_path}\")"
   ]
  },
  {
   "cell_type": "markdown",
   "id": "cc2495e1",
   "metadata": {},
   "source": [
    "#### Porównanie"
   ]
  },
  {
   "cell_type": "code",
   "execution_count": 20,
   "id": "48258f44",
   "metadata": {},
   "outputs": [
    {
     "data": {
      "text/html": [
       "\n",
       "    <style>\n",
       "        table {\n",
       "            margin: auto;\n",
       "        }\n",
       "        th {\n",
       "            text-align: center;\n",
       "            padding-bottom: 10px;\n",
       "            font-size: 16px;\n",
       "        }\n",
       "        td {\n",
       "            text-align: center;\n",
       "            border: 1px inset grey;\n",
       "        }\n",
       "        p {\n",
       "            text-align: center;\n",
       "        }\n",
       "    </style>\n",
       "    <p>Keysize: 256</p>\n",
       "    <table>\n",
       "    <tr>\n",
       "        <th>Original</th>\n",
       "        <th>Encrypted</th>\n",
       "        <th>Decrypted</th>\n",
       "    </tr>\n",
       "    <tr>\n",
       "        <td><img src=\"media/dice.png\" width=\"300\"></td>\n",
       "        <td><img src=\"files/ECB_dice_encrypted.png\" width=\"300\"></td>\n",
       "        <td><img src=\"files/ECB_dice_decrypted.png\" width=\"300\"></td>\n",
       "    </tr>\n",
       "    </table>\n",
       "    "
      ],
      "text/plain": [
       "<IPython.core.display.HTML object>"
      ]
     },
     "metadata": {},
     "output_type": "display_data"
    }
   ],
   "source": [
    "visualiseResults(img_path, ecb_encrypted_img_path, ecb_decrypted_img_path, keysize)"
   ]
  },
  {
   "cell_type": "markdown",
   "id": "ad4b77e6",
   "metadata": {},
   "source": [
    "### CBC"
   ]
  },
  {
   "cell_type": "markdown",
   "id": "71ec8e33",
   "metadata": {},
   "source": [
    "#### Encryption"
   ]
  },
  {
   "cell_type": "code",
   "execution_count": 21,
   "id": "66d800de",
   "metadata": {},
   "outputs": [
    {
     "name": "stdout",
     "output_type": "stream",
     "text": [
      "Original png: media/dice.png\n",
      "Encrypted png: files/CBC_dice_encrypted.png\n",
      "Keyfile: files/CBC_dice_keys.txt\n",
      "\n"
     ]
    }
   ],
   "source": [
    "cbc_encrypted_img_path, keyfile_path, iv =  RSA.encryptFileCBC(img_path, keypair)\n",
    "\n",
    "print(f\"\"\"Original png: {img_path}\n",
    "Encrypted png: {cbc_encrypted_img_path}\n",
    "Keyfile: {keyfile_path}\n",
    "\"\"\")"
   ]
  },
  {
   "cell_type": "markdown",
   "id": "59a1a7f8",
   "metadata": {},
   "source": [
    "#### Decryption"
   ]
  },
  {
   "cell_type": "code",
   "execution_count": 22,
   "id": "feff5e04",
   "metadata": {},
   "outputs": [
    {
     "name": "stdout",
     "output_type": "stream",
     "text": [
      "Decrypted png: files/CBC_dice_decrypted.png\n"
     ]
    }
   ],
   "source": [
    "cbc_decrypted_img_path =  RSA.decryptFileCBC(\n",
    "    cbc_encrypted_img_path, keyfile_path, iv)\n",
    "\n",
    "print(f\"Decrypted png: {cbc_decrypted_img_path}\")"
   ]
  },
  {
   "cell_type": "markdown",
   "id": "d6d56240",
   "metadata": {},
   "source": [
    "#### Porównanie"
   ]
  },
  {
   "cell_type": "code",
   "execution_count": 23,
   "id": "97c8f71c",
   "metadata": {},
   "outputs": [
    {
     "data": {
      "text/html": [
       "\n",
       "    <style>\n",
       "        table {\n",
       "            margin: auto;\n",
       "        }\n",
       "        th {\n",
       "            text-align: center;\n",
       "            padding-bottom: 10px;\n",
       "            font-size: 16px;\n",
       "        }\n",
       "        td {\n",
       "            text-align: center;\n",
       "            border: 1px inset grey;\n",
       "        }\n",
       "        p {\n",
       "            text-align: center;\n",
       "        }\n",
       "    </style>\n",
       "    <p>Keysize: 256</p>\n",
       "    <table>\n",
       "    <tr>\n",
       "        <th>Original</th>\n",
       "        <th>Encrypted</th>\n",
       "        <th>Decrypted</th>\n",
       "    </tr>\n",
       "    <tr>\n",
       "        <td><img src=\"media/dice.png\" width=\"300\"></td>\n",
       "        <td><img src=\"files/CBC_dice_encrypted.png\" width=\"300\"></td>\n",
       "        <td><img src=\"files/CBC_dice_decrypted.png\" width=\"300\"></td>\n",
       "    </tr>\n",
       "    </table>\n",
       "    "
      ],
      "text/plain": [
       "<IPython.core.display.HTML object>"
      ]
     },
     "metadata": {},
     "output_type": "display_data"
    }
   ],
   "source": [
    "visualiseResults(img_path, cbc_encrypted_img_path, cbc_decrypted_img_path, keysize)"
   ]
  },
  {
   "cell_type": "markdown",
   "id": "1bd3660c",
   "metadata": {},
   "source": [
    "##### Data lengths check"
   ]
  },
  {
   "cell_type": "code",
   "execution_count": 24,
   "id": "5e81e4e8",
   "metadata": {},
   "outputs": [
    {
     "name": "stdout",
     "output_type": "stream",
     "text": [
      "orig: 179514 encrypted: 185324 decrypted: 179514\n"
     ]
    }
   ],
   "source": [
    "for i, j, k in zip(idat_chunks, encrypted_idat_chunks, decrypted_idat_chunks):\n",
    "    print(f\"orig: {len(i)} encrypted: {len(j)} decrypted: {len(k)}\")"
   ]
  },
  {
   "cell_type": "markdown",
   "id": "18efc654",
   "metadata": {},
   "source": [
    "## Porównanie z gotową implementacją RSA"
   ]
  },
  {
   "cell_type": "markdown",
   "id": "cec33a3b",
   "metadata": {},
   "source": [
    "##### Keygen"
   ]
  },
  {
   "cell_type": "code",
   "execution_count": 25,
   "id": "32db9edd",
   "metadata": {},
   "outputs": [
    {
     "name": "stdout",
     "output_type": "stream",
     "text": [
      " Key:\n",
      "n - 36621364609423801317876835805513943399899158736508075343271276549630132301012279442340933943198637507516448387994897323696063747341582485646218702385635317861727113948323709115088859391604937227660475021256443786740628647800422131031191805433398515214820112685419191700499474131641099474113909393227142197909\n",
      "e - 65537\n",
      "d - 10559997381462242661477279140830408812904074062018853591667921696673790991722691867210262441957487398218500108890055535395398213181275093668343699554201992475112139710511290206413234507641039612468988970415586647472295167080181167899411936291967343787544071951651269780033577381057375060610844968519839101913\n",
      "\n"
     ]
    }
   ],
   "source": [
    "keysize = 1024\n",
    "custom_keypair = RSA.generateKeypair(keysize)\n",
    "print(f\"\"\" Key:\n",
    "n - {custom_keypair[0][0]}\n",
    "e - {custom_keypair[0][1]}\n",
    "d - {custom_keypair[1][1]}\n",
    "\"\"\") "
   ]
  },
  {
   "cell_type": "markdown",
   "id": "54c3701f",
   "metadata": {},
   "source": [
    "##### Encode/Decode"
   ]
  },
  {
   "cell_type": "code",
   "execution_count": null,
   "id": "35f6660d",
   "metadata": {},
   "outputs": [],
   "source": [
    "img_path = f\"media/dice.png\"\n",
    "\n",
    "##########################################################################\n",
    "###########################Our Implementation#############################\n",
    "##########################################################################\n",
    "\n",
    "# Encrypt\n",
    "cbc_enc_start = time.time()\n",
    "cbc_encrypted_img_path, keyfile_path, iv = RSA.encryptFileCBC(img_path, custom_keypair)\n",
    "cbc_enc_end = time.time()\n",
    "\n",
    "# Decrypt\n",
    "cbc_dec_start = time.time()\n",
    "cbc_decrypted_img_path = RSA.decryptFileCBC(cbc_encrypted_img_path, keyfile_path, iv)\n",
    "cbc_dec_end = time.time()\n",
    "\n",
    "##########################################################################\n",
    "#######################Python package PyCryptodome########################\n",
    "##########################################################################\n",
    "png = PNG(img_path)\n",
    "idat_chunks, _ = png.getDataChunks(png.getCriticalChunks())\n",
    "idat_data = png.concatDataChunks(idat_chunks)\n",
    "\n",
    "pycrypto_key = PyCryptoRSA.construct((\n",
    "    custom_keypair[0][0], \n",
    "    custom_keypair[0][1], \n",
    "    custom_keypair[1][1]\n",
    "    ))\n",
    "cipher = PKCS1_OAEP.new(pycrypto_key)\n",
    "\n",
    "byte_len = (custom_keypair[0][0].bit_length() + 7) // 8\n",
    "max_chunk = cipher._key.size_in_bytes() - 42\n",
    "\n",
    "# Encrypt\n",
    "cbc_enc_std_start = time.time()\n",
    "enc_data = bytearray()\n",
    "for i in range(0, len(idat_data), max_chunk):\n",
    "    chunk = idat_data[i:i+max_chunk]\n",
    "    enc_data.extend(cipher.encrypt(chunk))\n",
    "cbc_enc_std_end = time.time()\n",
    "\n",
    "# Decrypt\n",
    "cbc_dec_std_start = time.time()\n",
    "dec_data = bytearray()\n",
    "keysize_bytes = cipher._key.size_in_bytes()\n",
    "for i in range(0, len(enc_data), keysize_bytes):\n",
    "    chunk = enc_data[i:i+keysize_bytes]\n",
    "    dec_data.extend(cipher.decrypt(chunk))\n",
    "cbc_dec_std_end = time.time()\n",
    "\n",
    "print(f\"\"\"Python implementation time decrypt: {cbc_enc_std_end - cbc_enc_std_start\n",
    ":>4.3f} ms encrypt: {cbc_dec_std_end - cbc_dec_std_start:>4.3f} ms\n",
    "Custom implementation time decrypt: {cbc_enc_end - cbc_enc_start\n",
    ":>4.3f} ms encrypt: {cbc_dec_end - cbc_dec_start:>4.3f} ms\"\"\")"
   ]
  },
  {
   "cell_type": "markdown",
   "id": "535bb500",
   "metadata": {},
   "source": [
    "##### Porównanie"
   ]
  },
  {
   "cell_type": "code",
   "execution_count": null,
   "id": "a62f6089",
   "metadata": {},
   "outputs": [
    {
     "data": {
      "text/html": [
       "\n",
       "    <style>\n",
       "        table {\n",
       "            margin: auto;\n",
       "        }\n",
       "        th {\n",
       "            text-align: center;\n",
       "            padding-bottom: 10px;\n",
       "            font-size: 16px;\n",
       "        }\n",
       "        td {\n",
       "            text-align: center;\n",
       "            border: 1px inset grey;\n",
       "        }\n",
       "        p {\n",
       "            text-align: center;\n",
       "        }\n",
       "    </style>\n",
       "    <p>Nasza implementacja Keysize: 1024</p>\n",
       "    <table>\n",
       "    <tr>\n",
       "        <th>Original</th>\n",
       "        <th>Encrypted</th>\n",
       "        <th>Decrypted</th>\n",
       "    </tr>\n",
       "    <tr>\n",
       "        <td><img src=\"media/dice.png\" width=\"300\"></td>\n",
       "        <td><img src=\"files/CBC_dice_encrypted.png\" width=\"300\"></td>\n",
       "        <td><img src=\"files/CBC_dice_decrypted.png\" width=\"300\"></td>\n",
       "    </tr>\n",
       "    </table>\n",
       "    "
      ],
      "text/plain": [
       "<IPython.core.display.HTML object>"
      ]
     },
     "metadata": {},
     "output_type": "display_data"
    },
    {
     "data": {
      "text/html": [
       "\n",
       "    <style>\n",
       "        table {\n",
       "            margin: auto;\n",
       "        }\n",
       "        th {\n",
       "            text-align: center;\n",
       "            padding-bottom: 10px;\n",
       "            font-size: 16px;\n",
       "        }\n",
       "        td {\n",
       "            text-align: center;\n",
       "            border: 1px inset grey;\n",
       "        }\n",
       "        p {\n",
       "            text-align: center;\n",
       "        }\n",
       "    </style>\n",
       "    <p>Implementacja PyCryptodome Keysize: 1024</p>\n",
       "    <table>\n",
       "    <tr>\n",
       "        <th>Original</th>\n",
       "        <th>Encrypted</th>\n",
       "        <th>Decrypted</th>\n",
       "    </tr>\n",
       "    <tr>\n",
       "        <td><img src=\"media/dice.png\" width=\"300\"></td>\n",
       "        <td><img src=\"files/20250614220513_dice_encrypted.png\" width=\"300\"></td>\n",
       "        <td><img src=\"files/20250614220513_dice_decrypted.png\" width=\"300\"></td>\n",
       "    </tr>\n",
       "    </table>\n",
       "    "
      ],
      "text/plain": [
       "<IPython.core.display.HTML object>"
      ]
     },
     "metadata": {},
     "output_type": "display_data"
    }
   ],
   "source": [
    "\n",
    "std_encrypted_chunks = [PNG.buildNewIDAT(enc_data)]\n",
    "std_decrypted_chunks = [PNG.buildNewIDAT(dec_data)]\n",
    "anc_chunks = png.getAncillaryChunks()\n",
    "crit_chunks = png.getCriticalChunks()\n",
    "_, crit_no_idat = png.getDataChunks(crit_chunks)\n",
    "\n",
    "timestamp = RSA.getTimeStamp()\n",
    "std_enc_path = RSA.writeEncrypted(\n",
    "    png.buildFromChunks(anc_chunks, crit_no_idat, std_encrypted_chunks),\n",
    "    img_path, timestamp\n",
    ")\n",
    "time.sleep(1)\n",
    "std_dec_path = RSA.writeDecrypted(\n",
    "    png.buildFromChunks(anc_chunks, crit_no_idat, std_decrypted_chunks),\n",
    "    std_enc_path\n",
    ")\n",
    "\n",
    "visualiseResults(\n",
    "    img_path,\n",
    "    cbc_encrypted_img_path,\n",
    "    cbc_decrypted_img_path,\n",
    "    keysize,\n",
    "    \"Nasza implementacja\"\n",
    ")\n",
    "\n",
    "visualiseResults(\n",
    "    img_path,\n",
    "    std_enc_path,\n",
    "    std_dec_path,\n",
    "    keysize,\n",
    "    \"Implementacja PyCryptodome\"\n",
    ")"
   ]
  },
  {
   "cell_type": "markdown",
   "id": "ddcdf23f",
   "metadata": {},
   "source": [
    "## Porównanie plików"
   ]
  },
  {
   "cell_type": "code",
   "execution_count": null,
   "id": "b4462f1e",
   "metadata": {},
   "outputs": [
    {
     "name": "stdout",
     "output_type": "stream",
     "text": [
      "File: dice.png\n",
      "Crit chunks: 3 Anc chunks: 0\n",
      "Crit chunk sizes: \n",
      "IHDR: 13\n",
      "IDAT: 179502\n",
      "IEND: 0\n",
      "File: test.png\n",
      "Crit chunks: 10 Anc chunks: 8\n",
      "Crit chunk sizes: \n",
      "IHDR: 13\n",
      "IDAT: 8192\n",
      "IDAT: 8192\n",
      "IDAT: 8192\n",
      "IDAT: 8192\n",
      "IDAT: 8192\n",
      "IDAT: 8192\n",
      "IDAT: 8192\n",
      "IDAT: 7564\n",
      "IEND: 0\n",
      "File: plte.png\n",
      "Crit chunks: 5 Anc chunks: 6\n",
      "Crit chunk sizes: \n",
      "IHDR: 13\n",
      "PLTE: 768\n",
      "IDAT: 8192\n",
      "IDAT: 2484\n",
      "IEND: 0\n"
     ]
    }
   ],
   "source": [
    "files = ['dice', 'test', 'plte']\n",
    "# files = ['dice']\n",
    "\n",
    "for file in files:\n",
    "    print(f\"File: {file}.png\")\n",
    "    png = PNG(f\"media/{file}.png\")\n",
    "    anc_chunks = png.getAncillaryChunks()\n",
    "    crit_chunks = png.getCriticalChunks()\n",
    "    print(f\"Crit chunks: {len(crit_chunks)} Anc chunks: {len(anc_chunks)}\")\n",
    "    print(\"Crit chunk sizes: \")\n",
    "    for chunk in crit_chunks:\n",
    "        data_len = int.from_bytes(chunk[:4])\n",
    "        chunk_type = chunk[4:8].decode('utf-8')\n",
    "        print(f\"{chunk_type}: {data_len}\")\n"
   ]
  },
  {
   "cell_type": "code",
   "execution_count": null,
   "id": "ee6a4f08",
   "metadata": {},
   "outputs": [
    {
     "name": "stdout",
     "output_type": "stream",
     "text": [
      "orig: 179514 encrypted: 185324 decrypted: 179514\n"
     ]
    }
   ],
   "source": [
    "for i, j, k in zip(idat_chunks, encrypted_idat_chunks, decrypted_idat_chunks):\n",
    "    print(f\"orig: {len(i)} encrypted: {len(j)} decrypted: {len(k)}\")"
   ]
  }
 ],
 "metadata": {
  "kernelspec": {
   "display_name": "Python 3",
   "language": "python",
   "name": "python3"
  },
  "language_info": {
   "codemirror_mode": {
    "name": "ipython",
    "version": 3
   },
   "file_extension": ".py",
   "mimetype": "text/x-python",
   "name": "python",
   "nbconvert_exporter": "python",
   "pygments_lexer": "ipython3",
   "version": "3.12.6"
  }
 },
 "nbformat": 4,
 "nbformat_minor": 5
}
