{
 "cells": [
  {
   "cell_type": "markdown",
   "id": "b54da803",
   "metadata": {},
   "source": [
    "## Background code"
   ]
  },
  {
   "cell_type": "markdown",
   "id": "2866dcd8",
   "metadata": {},
   "source": [
    "### PNG encryption with RSA "
   ]
  },
  {
   "cell_type": "code",
   "execution_count": 341,
   "id": "5caed0c6",
   "metadata": {},
   "outputs": [],
   "source": [
    "import os\n",
    "import zlib\n",
    "import struct\n",
    "import random\n",
    "import datetime\n",
    "from classes.rsa import RSA \n",
    "from classes.png import PNG "
   ]
  },
  {
   "cell_type": "markdown",
   "id": "f282b648",
   "metadata": {},
   "source": [
    "### Helper functions"
   ]
  },
  {
   "cell_type": "code",
   "execution_count": 342,
   "id": "79414bfe",
   "metadata": {},
   "outputs": [],
   "source": [
    "def writeEncrypted(data, name, timestamp):\n",
    "    filename_no_ext = name[:-4]\n",
    "    new_name = f\"{timestamp}_{filename_no_ext}_encrypted.png\"\n",
    "    with open(new_name, 'wb') as new_file:\n",
    "        for chunk in data:\n",
    "            new_file.write(chunk)\n",
    "    return new_name\n",
    "\n",
    "def writeDecrypted(data, name):\n",
    "    filename_no_ext = name[:-14]\n",
    "    new_name = f\"{filename_no_ext}_decrypted.png\"\n",
    "    with open(new_name, 'wb') as new_file:\n",
    "        for chunk in data:\n",
    "            new_file.write(chunk)\n",
    "\n",
    "def saveKeys(keys, name, timestamp):\n",
    "    filename_no_ext = name[:-4]\n",
    "    new_name = f\"{timestamp}_{filename_no_ext}_keys.txt\"\n",
    "    pubkey = keys[0]\n",
    "    privkey = keys[1]\n",
    "    with open(new_name, 'w') as new_file:\n",
    "        new_file.write(f\"Public key:\\n{pubkey[0]}\\n{pubkey[1]}\\n\")\n",
    "        new_file.write(f\"Private key:\\n{privkey[0]}\\n{privkey[1]}\\n\")\n",
    "    return new_name\n",
    "\n",
    "def loadKeys(filename):\n",
    "    with open(filename, 'r') as keyfile:\n",
    "        lines = keyfile.readlines()\n",
    "        n_pub = int(lines[1])\n",
    "        e_pub = int(lines[2])\n",
    "        d_priv = int(lines[4])\n",
    "        e_priv = int(lines[5])\n",
    "\n",
    "        pubkey = (n_pub, e_pub)\n",
    "        privkey = (d_priv, e_priv)\n",
    "\n",
    "        return (pubkey, privkey)  "
   ]
  },
  {
   "cell_type": "markdown",
   "id": "94f78301",
   "metadata": {},
   "source": [
    "## Encryption & Decryption demos"
   ]
  },
  {
   "cell_type": "markdown",
   "id": "ed1168f5",
   "metadata": {},
   "source": [
    "#### Keypair generation"
   ]
  },
  {
   "cell_type": "code",
   "execution_count": 343,
   "id": "b6642fce",
   "metadata": {},
   "outputs": [
    {
     "name": "stdout",
     "output_type": "stream",
     "text": [
      "((1995424812039771229371121401557, 65537), (1995424812039771229371121401557, 1172251563061218865920577060001))\n"
     ]
    }
   ],
   "source": [
    "keypair = RSA.generateKeypair()\n",
    "print(keypair)"
   ]
  },
  {
   "cell_type": "markdown",
   "id": "5cf38660",
   "metadata": {},
   "source": [
    "#### Path to image"
   ]
  },
  {
   "cell_type": "code",
   "execution_count": 344,
   "id": "bf29887f",
   "metadata": {},
   "outputs": [],
   "source": [
    "filename = \"test.png\"\n",
    "img_path = f\"media/{filename}\""
   ]
  },
  {
   "cell_type": "markdown",
   "id": "d6452924",
   "metadata": {},
   "source": [
    "### Szyfrowanie danych bez dekompresji danych z pliku"
   ]
  },
  {
   "cell_type": "markdown",
   "id": "88b72c8a",
   "metadata": {},
   "source": [
    "##### Encryption"
   ]
  },
  {
   "cell_type": "code",
   "execution_count": 345,
   "id": "2c7c74dd",
   "metadata": {},
   "outputs": [],
   "source": [
    "png = PNG(img_path)\n",
    "png_name = os.path.basename(img_path)\n",
    "crit_chunks = png.getCriticalChunks()\n",
    "anc_chunks = png.getAncillaryChunks()\n",
    "idat_chunks, crit_chunks_no_data = png.getDataChunks(crit_chunks)\n",
    "pubkey = keypair[0]\n",
    "\n",
    "encrypted_idat_chunks = []\n",
    "for idat in idat_chunks:\n",
    "    idat_data = idat[8:-4]\n",
    "\n",
    "    try:\n",
    "        decompressed_data = zlib.decompress(idat_data)\n",
    "    except zlib.error:\n",
    "        decompressed_data = idat_data\n",
    "\n",
    "    encrypted_uncompressed = RSA.encryptData(decompressed_data, pubkey)\n",
    "    encrypted_compressed = zlib.compress(encrypted_uncompressed)\n",
    "\n",
    "    idat_type = b'IDAT'\n",
    "    new_len = len(encrypted_compressed).to_bytes(4, 'big')\n",
    "    new_crc = struct.pack('>I', zlib.crc32(idat_type + encrypted_compressed))\n",
    "    new_chunk = new_len + idat_type + encrypted_compressed + new_crc\n",
    "\n",
    "    encrypted_idat_chunks.append(new_chunk)\n",
    "\n",
    "crit_chunks_no_data.insert(0, png.png_signature)\n",
    "for chunk in encrypted_idat_chunks + anc_chunks:\n",
    "    crit_chunks_no_data.insert(-1, chunk)\n",
    "all_chunks = crit_chunks_no_data\n",
    "\n",
    "timestamp = '{:%Y%m%d%H%M%S}'.format(datetime.datetime.now())\n",
    "encrypt_img_path = writeEncrypted(all_chunks, png_name, timestamp)\n",
    "keyfile = saveKeys(keypair, png_name, timestamp)"
   ]
  },
  {
   "cell_type": "markdown",
   "id": "d84dbe9a",
   "metadata": {},
   "source": [
    "##### Decryption"
   ]
  },
  {
   "cell_type": "code",
   "execution_count": 346,
   "id": "e633e22a",
   "metadata": {},
   "outputs": [],
   "source": [
    "\n",
    "keys = loadKeys(keyfile)\n",
    "privkey = keys[1]\n",
    "\n",
    "png = PNG(encrypt_img_path)\n",
    "png_name = os.path.basename(encrypt_img_path)\n",
    "crit_chunks = png.getCriticalChunks()\n",
    "anc_chunks = png.getAncillaryChunks()\n",
    "encrypted_idat_chunks, crit_chunks_no_data = png.getDataChunks(crit_chunks)\n",
    "\n",
    "decrypted_idat_chunks = []\n",
    "for chunk in encrypted_idat_chunks:\n",
    "    encrypted_uncompressed  = zlib.decompress(chunk[8:-4])\n",
    "    decrypted_uncompressed  = RSA.decryptData(encrypted_uncompressed, privkey)\n",
    "    decrypted_compressed = zlib.compress(decrypted_uncompressed)\n",
    "\n",
    "    idat_type = b'IDAT'\n",
    "    new_len = len(decrypted_compressed).to_bytes(4, 'big')\n",
    "    new_crc = struct.pack('>I', zlib.crc32(idat_type + decrypted_compressed))\n",
    "    new_chunk = new_len + idat_type + decrypted_compressed + new_crc\n",
    "\n",
    "    decrypted_idat_chunks.append(new_chunk)\n",
    "\n",
    "crit_chunks_no_data.insert(0, png.png_signature)\n",
    "for chunk in decrypted_idat_chunks + anc_chunks:\n",
    "    crit_chunks_no_data.insert(-1, chunk)\n",
    "all_chunks = crit_chunks_no_data\n",
    "\n",
    "writeDecrypted(all_chunks, png_name)"
   ]
  },
  {
   "cell_type": "markdown",
   "id": "b76e58f6",
   "metadata": {},
   "source": [
    "##### Data lengths check"
   ]
  },
  {
   "cell_type": "code",
   "execution_count": 347,
   "id": "27961c2f",
   "metadata": {},
   "outputs": [
    {
     "name": "stdout",
     "output_type": "stream",
     "text": [
      "orig: 8204 encrypted: 8823 decrypted: 7441\n",
      "orig: 8204 encrypted: 8211 decrypted: 6706\n",
      "orig: 8204 encrypted: 8902 decrypted: 7619\n",
      "orig: 8204 encrypted: 8543 decrypted: 7084\n",
      "orig: 8204 encrypted: 8471 decrypted: 6783\n",
      "orig: 8204 encrypted: 8311 decrypted: 6311\n",
      "orig: 8204 encrypted: 8902 decrypted: 7848\n",
      "orig: 7576 encrypted: 7993 decrypted: 6702\n"
     ]
    }
   ],
   "source": [
    "for i, j, k in zip(idat_chunks, encrypted_idat_chunks, decrypted_idat_chunks):\n",
    "    print(f\"orig: {len(i)} encrypted: {len(j)} decrypted: {len(k)}\")"
   ]
  },
  {
   "cell_type": "markdown",
   "id": "191a801d",
   "metadata": {},
   "source": [
    "### Szyfrowanie danych zaszyfrowanych\n",
    "\n",
    "Czy obie metody są równoważne? - Nie!"
   ]
  },
  {
   "cell_type": "markdown",
   "id": "de6ad41b",
   "metadata": {},
   "source": [
    "##### Encryption"
   ]
  },
  {
   "cell_type": "code",
   "execution_count": 348,
   "id": "e0db3438",
   "metadata": {},
   "outputs": [],
   "source": [
    "png = PNG(img_path)\n",
    "png_name = os.path.basename(img_path)\n",
    "crit_chunks = png.getCriticalChunks()\n",
    "anc_chunks = png.getAncillaryChunks()\n",
    "idat_chunks, crit_chunks_no_data = png.getDataChunks(crit_chunks)\n",
    "pubkey = keypair[0]\n",
    "\n",
    "orig_data = []\n",
    "encrypted_idat_chunks = []\n",
    "for idat in idat_chunks:\n",
    "    idat_data = idat[8:-4]\n",
    "\n",
    "    orig_data.append(idat_data)\n",
    "    encrypted_data = RSA.encryptData(idat_data, pubkey)\n",
    "\n",
    "    idat_type = b'IDAT'\n",
    "    new_len = len(encrypted_data).to_bytes(4, 'big')\n",
    "    new_crc = struct.pack('>I', zlib.crc32(idat_type + encrypted_data))\n",
    "    new_chunk = new_len + idat_type + encrypted_data + new_crc\n",
    "\n",
    "    encrypted_idat_chunks.append(new_chunk)\n",
    "\n",
    "crit_chunks_no_data.insert(0, png.png_signature)\n",
    "for chunk in encrypted_idat_chunks + anc_chunks:\n",
    "    crit_chunks_no_data.insert(-1, chunk)\n",
    "    \n",
    "all_chunks = crit_chunks_no_data\n",
    "\n",
    "timestamp = '{:%Y%m%d%H%M%S}'.format(datetime.datetime.now())\n",
    "encrypt_img_path = writeEncrypted(all_chunks, png_name, timestamp)\n",
    "keyfile = saveKeys(keypair, png_name, timestamp)"
   ]
  },
  {
   "cell_type": "markdown",
   "id": "d857580e",
   "metadata": {},
   "source": [
    "##### Decryption"
   ]
  },
  {
   "cell_type": "code",
   "execution_count": 349,
   "id": "fa8e478a",
   "metadata": {},
   "outputs": [],
   "source": [
    "keys = loadKeys(keyfile)\n",
    "privkey = keys[1]\n",
    "\n",
    "png = PNG(encrypt_img_path)\n",
    "png_name = os.path.basename(encrypt_img_path)\n",
    "crit_chunks = png.getCriticalChunks()\n",
    "anc_chunks = png.getAncillaryChunks()\n",
    "encrypted_idat_chunks, crit_chunks_no_data = png.getDataChunks(crit_chunks)\n",
    "\n",
    "decrypted_data = []\n",
    "decrypted_idat_chunks = []\n",
    "for chunk in encrypted_idat_chunks:\n",
    "    chunk_data = chunk[8:-4]\n",
    "    decrypted_chunk_data = RSA.decryptData(chunk_data, privkey)\n",
    "    decrypted_data.append(decrypted_uncompressed)\n",
    "\n",
    "    idat_type = b'IDAT'\n",
    "    new_len = len(decrypted_chunk_data).to_bytes(4, 'big')\n",
    "    new_crc = struct.pack('>I', zlib.crc32(idat_type + decrypted_chunk_data))\n",
    "    new_chunk = new_len + idat_type + decrypted_chunk_data + new_crc\n",
    "\n",
    "    decrypted_idat_chunks.append(new_chunk)\n",
    "\n",
    "\n",
    "crit_chunks_no_data.insert(0, png.png_signature)\n",
    "for chunk in decrypted_idat_chunks + anc_chunks:\n",
    "    crit_chunks_no_data.insert(-1, chunk)\n",
    "    \n",
    "all_chunks = crit_chunks_no_data\n",
    "\n",
    "writeDecrypted(all_chunks, png_name)"
   ]
  },
  {
   "cell_type": "markdown",
   "id": "c1943b69",
   "metadata": {},
   "source": [
    "##### Data lengths check"
   ]
  },
  {
   "cell_type": "code",
   "execution_count": 350,
   "id": "b5ef4e6d",
   "metadata": {},
   "outputs": [
    {
     "name": "stdout",
     "output_type": "stream",
     "text": [
      "orig: 8204 encrypted: 8891 decrypted: 8204\n",
      "orig: 8204 encrypted: 8891 decrypted: 8204\n",
      "orig: 8204 encrypted: 8891 decrypted: 8204\n",
      "orig: 8204 encrypted: 8891 decrypted: 8204\n",
      "orig: 8204 encrypted: 8891 decrypted: 8204\n",
      "orig: 8204 encrypted: 8891 decrypted: 8204\n",
      "orig: 8204 encrypted: 8891 decrypted: 8204\n",
      "orig: 7576 encrypted: 8215 decrypted: 7576\n"
     ]
    }
   ],
   "source": [
    "for i, j, k in zip(idat_chunks, encrypted_idat_chunks, decrypted_idat_chunks):\n",
    "    print(f\"orig: {len(i)} encrypted: {len(j)} decrypted: {len(k)}\")"
   ]
  },
  {
   "cell_type": "markdown",
   "id": "9cd24a2a",
   "metadata": {},
   "source": [
    "## Porównanie metod szyfrowania: ECB (Electronic CodeBook) oraz CBC (Cypher Clock Chaining)"
   ]
  },
  {
   "cell_type": "markdown",
   "id": "89639f09",
   "metadata": {},
   "source": [
    "##### Get new keypair"
   ]
  },
  {
   "cell_type": "code",
   "execution_count": 351,
   "id": "d9732d6a",
   "metadata": {},
   "outputs": [],
   "source": [
    "keypair = RSA.generateKeypair()"
   ]
  },
  {
   "cell_type": "markdown",
   "id": "95a8facf",
   "metadata": {},
   "source": [
    "### ECB"
   ]
  },
  {
   "cell_type": "markdown",
   "id": "dcd6a2dd",
   "metadata": {},
   "source": [
    "#### Encryption"
   ]
  },
  {
   "cell_type": "code",
   "execution_count": 352,
   "id": "eab54718",
   "metadata": {},
   "outputs": [],
   "source": [
    "png = PNG(img_path)\n",
    "png_name = os.path.basename(img_path)\n",
    "crit_chunks = png.getCriticalChunks()\n",
    "anc_chunks = png.getAncillaryChunks()\n",
    "idat_chunks, crit_chunks_no_data = png.getDataChunks(crit_chunks)\n",
    "pubkey = keypair[0]\n",
    "\n",
    "orig_data = []\n",
    "encrypted_idat_chunks = []\n",
    "for idat in idat_chunks:\n",
    "    idat_data = idat[8:-4]\n",
    "\n",
    "    orig_data.append(idat_data)\n",
    "    encrypted_data = RSA.encryptECB(idat_data, pubkey)\n",
    "\n",
    "    idat_type = b'IDAT'\n",
    "    new_len = len(encrypted_data).to_bytes(4, 'big')\n",
    "    new_crc = struct.pack('>I', zlib.crc32(idat_type + encrypted_data))\n",
    "    new_chunk = new_len + idat_type + encrypted_data + new_crc\n",
    "\n",
    "    encrypted_idat_chunks.append(new_chunk)\n",
    "    \n",
    "crit_chunks_no_data.insert(0, png.png_signature)\n",
    "for chunk in encrypted_idat_chunks + anc_chunks:\n",
    "    crit_chunks_no_data.insert(-1, chunk)\n",
    "all_chunks = crit_chunks_no_data\n",
    "\n",
    "timestamp = '{:%Y%m%d%H%M%S}'.format(datetime.datetime.now())\n",
    "encrypt_img_path = writeEncrypted(all_chunks, png_name, timestamp)\n",
    "keyfile = saveKeys(keypair, png_name, timestamp)\n"
   ]
  },
  {
   "cell_type": "markdown",
   "id": "5ada16b2",
   "metadata": {},
   "source": [
    "#### Decryption"
   ]
  },
  {
   "cell_type": "code",
   "execution_count": 353,
   "id": "4599d7d7",
   "metadata": {},
   "outputs": [],
   "source": [
    "\n",
    "keys = loadKeys(keyfile)\n",
    "privkey = keys[1]\n",
    "\n",
    "png = PNG(encrypt_img_path)\n",
    "png_name = os.path.basename(encrypt_img_path)\n",
    "crit_chunks = png.getCriticalChunks()\n",
    "anc_chunks = png.getAncillaryChunks()\n",
    "encrypted_idat_chunks, crit_chunks_no_data = png.getDataChunks(crit_chunks)\n",
    "\n",
    "decrypted_data = []\n",
    "decrypted_idat_chunks = []\n",
    "for chunk in encrypted_idat_chunks:\n",
    "    chunk_data = chunk[8:-4]\n",
    "    decrypted_chunk_data = RSA.decryptECB(chunk_data, privkey)\n",
    "    decrypted_data.append(decrypted_uncompressed)\n",
    "\n",
    "    idat_type = b'IDAT'\n",
    "    new_len = len(decrypted_chunk_data).to_bytes(4, 'big')\n",
    "    new_crc = struct.pack('>I', zlib.crc32(idat_type + decrypted_chunk_data))\n",
    "    new_chunk = new_len + idat_type + decrypted_chunk_data + new_crc\n",
    "\n",
    "    decrypted_idat_chunks.append(new_chunk)\n",
    "\n",
    "crit_chunks_no_data.insert(0, png.png_signature)\n",
    "for chunk in decrypted_idat_chunks + anc_chunks:\n",
    "    crit_chunks_no_data.insert(-1, chunk)\n",
    "all_chunks = crit_chunks_no_data\n",
    "\n",
    "writeDecrypted(all_chunks, png_name)"
   ]
  },
  {
   "cell_type": "markdown",
   "id": "ad4b77e6",
   "metadata": {},
   "source": [
    "### CBC"
   ]
  },
  {
   "cell_type": "markdown",
   "id": "71ec8e33",
   "metadata": {},
   "source": [
    "#### Encryption"
   ]
  },
  {
   "cell_type": "code",
   "execution_count": 354,
   "id": "66d800de",
   "metadata": {},
   "outputs": [],
   "source": [
    "png = PNG(img_path)\n",
    "png_name = os.path.basename(img_path)\n",
    "crit_chunks = png.getCriticalChunks()\n",
    "anc_chunks = png.getAncillaryChunks()\n",
    "idat_chunks, crit_chunks_no_data = png.getDataChunks(crit_chunks)\n",
    "pubkey = keypair[0]\n",
    "\n",
    "block_size = (pubkey[0].bit_length() + 7) // 8\n",
    "iv = random.randbytes(block_size)\n",
    "\n",
    "orig_data = []\n",
    "encrypted_idat_chunks = []\n",
    "for idat in idat_chunks:\n",
    "    idat_data = idat[8:-4]\n",
    "\n",
    "    orig_data.append(idat_data)\n",
    "    encrypted_data = RSA.encryptCBC(idat_data, pubkey, iv)\n",
    "\n",
    "    idat_type = b'IDAT'\n",
    "    new_len = len(encrypted_data).to_bytes(4, 'big')\n",
    "    new_crc = struct.pack('>I', zlib.crc32(idat_type + encrypted_data))\n",
    "    new_chunk = new_len + idat_type + encrypted_data + new_crc\n",
    "\n",
    "    encrypted_idat_chunks.append(new_chunk)\n",
    "\n",
    "crit_chunks_no_data.insert(0, png.png_signature)\n",
    "for chunk in encrypted_idat_chunks + anc_chunks:\n",
    "    crit_chunks_no_data.insert(-1, chunk)\n",
    "all_chunks = crit_chunks_no_data\n",
    "\n",
    "timestamp = '{:%Y%m%d%H%M%S}'.format(datetime.datetime.now())\n",
    "encrypt_img_path = writeEncrypted(all_chunks, png_name, timestamp)\n",
    "keyfile = saveKeys(keypair, png_name, timestamp)\n"
   ]
  },
  {
   "cell_type": "markdown",
   "id": "59a1a7f8",
   "metadata": {},
   "source": [
    "#### Decryption"
   ]
  },
  {
   "cell_type": "code",
   "execution_count": 355,
   "id": "feff5e04",
   "metadata": {},
   "outputs": [],
   "source": [
    "\n",
    "keys = loadKeys(keyfile)\n",
    "privkey = keys[1]\n",
    "\n",
    "png = PNG(encrypt_img_path)\n",
    "png_name = os.path.basename(encrypt_img_path)\n",
    "crit_chunks = png.getCriticalChunks()\n",
    "anc_chunks = png.getAncillaryChunks()\n",
    "encrypted_idat_chunks, crit_chunks_no_data = png.getDataChunks(crit_chunks)\n",
    "\n",
    "decrypted_data = []\n",
    "decrypted_idat_chunks = []\n",
    "for chunk in encrypted_idat_chunks:\n",
    "    chunk_data = chunk[8:-4]\n",
    "    decrypted_chunk_data = RSA.decryptCBC(chunk_data, privkey, iv)\n",
    "    decrypted_data.append(decrypted_uncompressed)\n",
    "\n",
    "    idat_type = b'IDAT'\n",
    "    new_len = len(decrypted_chunk_data).to_bytes(4, 'big')\n",
    "    new_crc = struct.pack('>I', zlib.crc32(idat_type + decrypted_chunk_data))\n",
    "    new_chunk = new_len + idat_type + decrypted_chunk_data + new_crc\n",
    "\n",
    "    decrypted_idat_chunks.append(new_chunk)\n",
    "\n",
    "crit_chunks_no_data.insert(0, png.png_signature)\n",
    "for chunk in decrypted_idat_chunks + anc_chunks:\n",
    "    crit_chunks_no_data.insert(-1, chunk)\n",
    "all_chunks = crit_chunks_no_data\n",
    "\n",
    "writeDecrypted(all_chunks, png_name)"
   ]
  },
  {
   "cell_type": "markdown",
   "id": "1bd3660c",
   "metadata": {},
   "source": [
    "##### Data lengths check"
   ]
  },
  {
   "cell_type": "code",
   "execution_count": 356,
   "id": "5e81e4e8",
   "metadata": {},
   "outputs": [
    {
     "name": "stdout",
     "output_type": "stream",
     "text": [
      "orig: 8204 encrypted: 8891 decrypted: 8204\n",
      "orig: 8204 encrypted: 8891 decrypted: 8204\n",
      "orig: 8204 encrypted: 8891 decrypted: 8204\n",
      "orig: 8204 encrypted: 8891 decrypted: 8204\n",
      "orig: 8204 encrypted: 8891 decrypted: 8204\n",
      "orig: 8204 encrypted: 8891 decrypted: 8204\n",
      "orig: 8204 encrypted: 8891 decrypted: 8204\n",
      "orig: 7576 encrypted: 8215 decrypted: 7576\n"
     ]
    }
   ],
   "source": [
    "for i, j, k in zip(idat_chunks, encrypted_idat_chunks, decrypted_idat_chunks):\n",
    "    print(f\"orig: {len(i)} encrypted: {len(j)} decrypted: {len(k)}\")"
   ]
  },
  {
   "cell_type": "markdown",
   "id": "18efc654",
   "metadata": {},
   "source": [
    "## Porównanie z gotową implementacją RSA"
   ]
  },
  {
   "cell_type": "code",
   "execution_count": null,
   "id": "0ba8db55",
   "metadata": {},
   "outputs": [
    {
     "name": "stdout",
     "output_type": "stream",
     "text": [
      "Odszyfrowane (Twoja implementacja): bytearray(b'Testowe dane do zaszyfrowania')\n",
      "Odszyfrowane (PyCryptodome PKCS1_OAEP): b'Testowe dane do zaszyfrowania'\n",
      "Czy odszyfrowane dane są identyczne? True\n"
     ]
    }
   ],
   "source": [
    "from Crypto.PublicKey import RSA as CryptoRSA\n",
    "from Crypto.Cipher import PKCS1_OAEP\n",
    "from classes.rsa import RSA\n",
    "\n",
    "key = CryptoRSA.generate(2048)\n",
    "\n",
    "n = key.n\n",
    "e = key.e\n",
    "d = key.d\n",
    "\n",
    "pubkey = (n, e)\n",
    "privkey = (n, d)\n",
    "\n",
    "plaintext = b\"Test\"\n",
    "\n",
    "ciphertext_my = RSA.encryptData(plaintext, pubkey)\n",
    "decrypted_my = RSA.decryptData(ciphertext_my, privkey)\n",
    "print(\"Odszyfrowane (Twoja implementacja):\", decrypted_my)\n",
    "\n",
    "cipher = PKCS1_OAEP.new(key.publickey())\n",
    "ciphertext_lib = cipher.encrypt(plaintext)\n",
    "\n",
    "decipher = PKCS1_OAEP.new(key)\n",
    "decrypted_lib = decipher.decrypt(ciphertext_lib)\n"
   ]
  },
  {
   "cell_type": "markdown",
   "id": "ddcdf23f",
   "metadata": {},
   "source": [
    "## Porównanie plików"
   ]
  },
  {
   "cell_type": "code",
   "execution_count": null,
   "id": "b4462f1e",
   "metadata": {},
   "outputs": [
    {
     "name": "stdout",
     "output_type": "stream",
     "text": [
      "File: dice.png\n",
      "Crit chunks: 3 Anc chunks: 0\n",
      "Crit chunk sizes: \n",
      "IHDR: 13\n",
      "IDAT: 179502\n",
      "IEND: 0\n",
      "File: test.png\n",
      "Crit chunks: 10 Anc chunks: 8\n",
      "Crit chunk sizes: \n",
      "IHDR: 13\n",
      "IDAT: 8192\n",
      "IDAT: 8192\n",
      "IDAT: 8192\n",
      "IDAT: 8192\n",
      "IDAT: 8192\n",
      "IDAT: 8192\n",
      "IDAT: 8192\n",
      "IDAT: 7564\n",
      "IEND: 0\n",
      "File: plte.png\n",
      "Crit chunks: 5 Anc chunks: 6\n",
      "Crit chunk sizes: \n",
      "IHDR: 13\n",
      "PLTE: 768\n",
      "IDAT: 8192\n",
      "IDAT: 2484\n",
      "IEND: 0\n"
     ]
    }
   ],
   "source": [
    "files = ['dice', 'test', 'plte']\n",
    "\n",
    "for file in files:\n",
    "    print(f\"File: {file}.png\")\n",
    "    png = PNG(f\"media/{file}.png\")\n",
    "    anc_chunks = png.getAncillaryChunks()\n",
    "    crit_chunks = png.getCriticalChunks()\n",
    "    print(f\"Crit chunks: {len(crit_chunks)} Anc chunks: {len(anc_chunks)}\")\n",
    "    print(\"Crit chunk sizes: \")\n",
    "    for chunk in crit_chunks:\n",
    "        data_len = int.from_bytes(chunk[:4])\n",
    "        chunk_type = chunk[4:8].decode('utf-8')\n",
    "        print(f\"{chunk_type}: {data_len}\")\n"
   ]
  }
 ],
 "metadata": {
  "kernelspec": {
   "display_name": "3.12.4",
   "language": "python",
   "name": "python3"
  },
  "language_info": {
   "codemirror_mode": {
    "name": "ipython",
    "version": 3
   },
   "file_extension": ".py",
   "mimetype": "text/x-python",
   "name": "python",
   "nbconvert_exporter": "python",
   "pygments_lexer": "ipython3",
   "version": "3.12.4"
  }
 },
 "nbformat": 4,
 "nbformat_minor": 5
}
