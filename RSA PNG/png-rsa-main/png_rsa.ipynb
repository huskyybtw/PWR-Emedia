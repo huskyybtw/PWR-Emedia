{
 "cells": [
  {
   "cell_type": "markdown",
   "id": "2866dcd8",
   "metadata": {},
   "source": [
    "### PNG encryption with RSA "
   ]
  },
  {
   "cell_type": "code",
   "execution_count": 1,
   "id": "5caed0c6",
   "metadata": {},
   "outputs": [],
   "source": [
    "import os\n",
    "import zlib\n",
    "import struct\n",
    "import random\n",
    "import datetime\n",
    "from classes.rsa import RSA \n",
    "from classes.png import PNG \n",
    "from Crypto.PublicKey import RSA as CryptoRSA\n",
    "from Crypto.Cipher import PKCS1_OAEP\n"
   ]
  },
  {
   "cell_type": "markdown",
   "id": "f282b648",
   "metadata": {},
   "source": [
    "### Helper functions"
   ]
  },
  {
   "cell_type": "code",
   "execution_count": 2,
   "id": "79414bfe",
   "metadata": {},
   "outputs": [],
   "source": [
    "def writeEncrypted(data, name, timestamp):\n",
    "    filename_no_ext = name[:-4]\n",
    "    new_name = f\"{timestamp}_{filename_no_ext}_encrypted.png\"\n",
    "    with open(new_name, 'wb') as new_file:\n",
    "        for chunk in data:\n",
    "            new_file.write(chunk)\n",
    "    return new_name\n",
    "\n",
    "def writeDecrypted(data, name):\n",
    "    filename_no_ext = name[:-14]\n",
    "    new_name = f\"{filename_no_ext}_decrypted.png\"\n",
    "    with open(new_name, 'wb') as new_file:\n",
    "        for chunk in data:\n",
    "            new_file.write(chunk)\n",
    "\n",
    "def saveKeys(keys, name, timestamp):\n",
    "    filename_no_ext = name[:-4]\n",
    "    new_name = f\"{timestamp}_{filename_no_ext}_keys.txt\"\n",
    "    pubkey = keys[0]\n",
    "    privkey = keys[1]\n",
    "    with open(new_name, 'w') as new_file:\n",
    "        new_file.write(f\"Public key:\\n{pubkey[0]}\\n{pubkey[1]}\\n\")\n",
    "        new_file.write(f\"Private key:\\n{privkey[0]}\\n{privkey[1]}\\n\")\n",
    "    return new_name\n",
    "\n",
    "def loadKeys(filename):\n",
    "    with open(filename, 'r') as keyfile:\n",
    "        lines = keyfile.readlines()\n",
    "        n_pub = int(lines[1])\n",
    "        e_pub = int(lines[2])\n",
    "        d_priv = int(lines[4])\n",
    "        e_priv = int(lines[5])\n",
    "\n",
    "        pubkey = (n_pub, e_pub)\n",
    "        privkey = (d_priv, e_priv)\n",
    "\n",
    "        return (pubkey, privkey)  "
   ]
  },
  {
   "cell_type": "markdown",
   "id": "94f78301",
   "metadata": {},
   "source": [
    "## Encryption & Decryption demos"
   ]
  },
  {
   "cell_type": "markdown",
   "id": "ed1168f5",
   "metadata": {},
   "source": [
    "#### Keypair generation"
   ]
  },
  {
   "cell_type": "code",
   "execution_count": 3,
   "id": "b6642fce",
   "metadata": {},
   "outputs": [
    {
     "name": "stdout",
     "output_type": "stream",
     "text": [
      "((515880984304879278894855428807, 65537), (515880984304879278894855428807, 132471139735825397355274766993))\n"
     ]
    }
   ],
   "source": [
    "keypair = RSA.generateKeypair()\n",
    "print(keypair)"
   ]
  },
  {
   "cell_type": "markdown",
   "id": "5cf38660",
   "metadata": {},
   "source": [
    "#### Path to image"
   ]
  },
  {
   "cell_type": "code",
   "execution_count": 4,
   "id": "bf29887f",
   "metadata": {},
   "outputs": [],
   "source": [
    "filename = \"linux.png\"\n",
    "img_path = f\"media/{filename}\""
   ]
  },
  {
   "cell_type": "markdown",
   "id": "d6452924",
   "metadata": {},
   "source": [
    "### Szyfrowanie danych zdekompresowanych"
   ]
  },
  {
   "cell_type": "markdown",
   "id": "88b72c8a",
   "metadata": {},
   "source": [
    "##### Encryption"
   ]
  },
  {
   "cell_type": "code",
   "execution_count": 5,
   "id": "2c7c74dd",
   "metadata": {},
   "outputs": [],
   "source": [
    "png = PNG(img_path)\n",
    "png_name = os.path.basename(img_path)\n",
    "crit_chunks = png.getCriticalChunks()\n",
    "anc_chunks = png.getAncillaryChunks()\n",
    "idat_chunks, crit_chunks_no_data = png.getDataChunks(crit_chunks)\n",
    "pubkey = keypair[0]\n",
    "\n",
    "encrypted_idat_chunks = []\n",
    "# Calculate max chunk size for your RSA key (e.g., 2048 bits, PKCS#1 v1.5 padding)\n",
    "key_bytes = (pubkey[0].bit_length() + 7) // 8\n",
    "max_chunk_size = key_bytes - 11  # for PKCS#1 v1.5 padding\n",
    "\n",
    "for idat in idat_chunks:\n",
    "    idat_data = idat[8:-4]\n",
    "    try:\n",
    "        decompressed_data = zlib.decompress(idat_data)\n",
    "    except zlib.error:\n",
    "        decompressed_data = idat_data\n",
    "\n",
    "    # Split data into chunks\n",
    "    chunks = [decompressed_data[i:i+max_chunk_size] for i in range(0, len(decompressed_data), max_chunk_size)]\n",
    "    encrypted_chunks = []\n",
    "    for chunk in chunks:\n",
    "        encrypted_chunk = RSA.encryptData(chunk, pubkey)\n",
    "        length_bytes = len(chunk).to_bytes(4, 'big')\n",
    "        encrypted_chunks.append(length_bytes + encrypted_chunk)\n",
    "    encrypted_uncompressed = b''.join(encrypted_chunks)\n",
    "    encrypted_compressed = zlib.compress(encrypted_uncompressed)\n",
    "\n",
    "    idat_type = b'IDAT'\n",
    "    new_len = len(encrypted_compressed).to_bytes(4, 'big')\n",
    "    new_crc = struct.pack('>I', zlib.crc32(idat_type + encrypted_compressed))\n",
    "    new_chunk = new_len + idat_type + encrypted_compressed + new_crc\n",
    "\n",
    "    encrypted_idat_chunks.append(new_chunk)\n",
    "\n",
    "crit_chunks_no_data.insert(0, png.png_signature)\n",
    "for chunk in encrypted_idat_chunks + anc_chunks:\n",
    "    crit_chunks_no_data.insert(-1, chunk)\n",
    "all_chunks = crit_chunks_no_data\n",
    "\n",
    "encrypt_img_path = writeEncrypted(all_chunks, png_name, \"decompressed\")\n",
    "keyfile = saveKeys(keypair, png_name, \"decompressed\")"
   ]
  },
  {
   "cell_type": "markdown",
   "id": "d84dbe9a",
   "metadata": {},
   "source": [
    "##### Decryption"
   ]
  },
  {
   "cell_type": "code",
   "execution_count": 6,
   "id": "e633e22a",
   "metadata": {},
   "outputs": [],
   "source": [
    "png = PNG(encrypt_img_path)\n",
    "png_name = os.path.basename(encrypt_img_path)\n",
    "crit_chunks = png.getCriticalChunks()\n",
    "anc_chunks = png.getAncillaryChunks()\n",
    "idat_chunks, crit_chunks_no_data = png.getDataChunks(crit_chunks)\n",
    "\n",
    "keys = loadKeys(keyfile)\n",
    "privkey = keys[1]\n",
    "\n",
    "decrypted_idat_chunks = []\n",
    "for chunk in encrypted_idat_chunks:\n",
    "    encrypted_data = zlib.decompress(chunk[8:-4])\n",
    "    decrypted_parts = []\n",
    "    offset = 0\n",
    "    while offset < len(encrypted_data):\n",
    "        chunk_len = int.from_bytes(encrypted_data[offset:offset+4], 'big')\n",
    "        offset += 4\n",
    "        encrypted_chunk = encrypted_data[offset:offset+key_bytes]\n",
    "        offset += key_bytes\n",
    "        decrypted_chunk = RSA.decryptData(encrypted_chunk, privkey)\n",
    "        decrypted_parts.append(decrypted_chunk[:chunk_len])\n",
    "    decrypted_uncompressed = b''.join(decrypted_parts)\n",
    "    decrypted_compressed = zlib.compress(decrypted_uncompressed)\n",
    "\n",
    "    idat_type = b'IDAT'\n",
    "    new_len = len(decrypted_compressed).to_bytes(4, 'big')\n",
    "    new_crc = struct.pack('>I', zlib.crc32(idat_type + decrypted_compressed))\n",
    "    new_chunk = new_len + idat_type + decrypted_compressed + new_crc\n",
    "\n",
    "    decrypted_idat_chunks.append(new_chunk)\n",
    "\n",
    "crit_chunks_no_data.insert(0, png.png_signature)\n",
    "for chunk in decrypted_idat_chunks + anc_chunks:\n",
    "    crit_chunks_no_data.insert(-1, chunk)\n",
    "all_chunks = crit_chunks_no_data\n",
    "\n",
    "writeDecrypted(all_chunks, png_name)"
   ]
  },
  {
   "cell_type": "markdown",
   "id": "b76e58f6",
   "metadata": {},
   "source": [
    "##### Data lengths check"
   ]
  },
  {
   "cell_type": "code",
   "execution_count": 7,
   "id": "27961c2f",
   "metadata": {},
   "outputs": [
    {
     "name": "stdout",
     "output_type": "stream",
     "text": [
      "orig: 54608 encrypted: 54608 decrypted: 12815\n"
     ]
    }
   ],
   "source": [
    "for i, j, k in zip(idat_chunks, encrypted_idat_chunks, decrypted_idat_chunks):\n",
    "    print(f\"orig: {len(i)} encrypted: {len(j)} decrypted: {len(k)}\")"
   ]
  },
  {
   "cell_type": "markdown",
   "id": "191a801d",
   "metadata": {},
   "source": [
    "### Szyfrowanie danych bez dekompresji danych z pliku\n",
    "\n",
    "Czy obie metody są równoważne? - Nie!"
   ]
  },
  {
   "cell_type": "markdown",
   "id": "de6ad41b",
   "metadata": {},
   "source": [
    "##### Encryption"
   ]
  },
  {
   "cell_type": "code",
   "execution_count": 8,
   "id": "e0db3438",
   "metadata": {},
   "outputs": [],
   "source": [
    "png = PNG(img_path)\n",
    "png_name = os.path.basename(img_path)\n",
    "crit_chunks = png.getCriticalChunks()\n",
    "anc_chunks = png.getAncillaryChunks()\n",
    "idat_chunks, crit_chunks_no_data = png.getDataChunks(crit_chunks)\n",
    "pubkey = keypair[0]\n",
    "\n",
    "orig_data = []\n",
    "encrypted_idat_chunks = []\n",
    "for idat in idat_chunks:\n",
    "    idat_data = idat[8:-4]\n",
    "\n",
    "    orig_data.append(idat_data)\n",
    "    encrypted_data = RSA.encryptData(idat_data, pubkey)\n",
    "\n",
    "    idat_type = b'IDAT'\n",
    "    new_len = len(encrypted_data).to_bytes(4, 'big')\n",
    "    new_crc = struct.pack('>I', zlib.crc32(idat_type + encrypted_data))\n",
    "    new_chunk = new_len + idat_type + encrypted_data + new_crc\n",
    "\n",
    "    encrypted_idat_chunks.append(new_chunk)\n",
    "\n",
    "crit_chunks_no_data.insert(0, png.png_signature)\n",
    "for chunk in encrypted_idat_chunks + anc_chunks:\n",
    "    crit_chunks_no_data.insert(-1, chunk)\n",
    "    \n",
    "all_chunks = crit_chunks_no_data\n",
    "\n",
    "encrypt_img_path = writeEncrypted(all_chunks, png_name, \"compressed\")\n",
    "keyfile = saveKeys(keypair, png_name, \"compressed\")"
   ]
  },
  {
   "cell_type": "markdown",
   "id": "d857580e",
   "metadata": {},
   "source": [
    "##### Decryption"
   ]
  },
  {
   "cell_type": "code",
   "execution_count": 9,
   "id": "fa8e478a",
   "metadata": {},
   "outputs": [],
   "source": [
    "keys = loadKeys(keyfile)\n",
    "privkey = keys[1]\n",
    "\n",
    "png = PNG(encrypt_img_path)\n",
    "png_name = os.path.basename(encrypt_img_path)\n",
    "crit_chunks = png.getCriticalChunks()\n",
    "anc_chunks = png.getAncillaryChunks()\n",
    "encrypted_idat_chunks, crit_chunks_no_data = png.getDataChunks(crit_chunks)\n",
    "\n",
    "decrypted_data = []\n",
    "decrypted_idat_chunks = []\n",
    "for chunk in encrypted_idat_chunks:\n",
    "    chunk_data = chunk[8:-4]\n",
    "    decrypted_chunk_data = RSA.decryptData(chunk_data, privkey)\n",
    "    decrypted_data.append(decrypted_chunk_data)\n",
    "\n",
    "    idat_type = b'IDAT'\n",
    "    new_len = len(decrypted_chunk_data).to_bytes(4, 'big')\n",
    "    new_crc = struct.pack('>I', zlib.crc32(idat_type + decrypted_chunk_data))\n",
    "    new_chunk = new_len + idat_type + decrypted_chunk_data + new_crc\n",
    "\n",
    "    decrypted_idat_chunks.append(new_chunk)\n",
    "\n",
    "\n",
    "crit_chunks_no_data.insert(0, png.png_signature)\n",
    "for chunk in decrypted_idat_chunks + anc_chunks:\n",
    "    crit_chunks_no_data.insert(-1, chunk)\n",
    "    \n",
    "all_chunks = crit_chunks_no_data\n",
    "\n",
    "writeDecrypted(all_chunks, png_name)"
   ]
  },
  {
   "cell_type": "markdown",
   "id": "c1943b69",
   "metadata": {},
   "source": [
    "##### Data lengths check"
   ]
  },
  {
   "cell_type": "code",
   "execution_count": 10,
   "id": "b5ef4e6d",
   "metadata": {},
   "outputs": [
    {
     "name": "stdout",
     "output_type": "stream",
     "text": [
      "orig: 11261 encrypted: 12206 decrypted: 11261\n"
     ]
    }
   ],
   "source": [
    "for i, j, k in zip(idat_chunks, encrypted_idat_chunks, decrypted_idat_chunks):\n",
    "    print(f\"orig: {len(i)} encrypted: {len(j)} decrypted: {len(k)}\")"
   ]
  },
  {
   "cell_type": "markdown",
   "id": "9cd24a2a",
   "metadata": {},
   "source": [
    "## Porównanie metod szyfrowania: ECB (Electronic CodeBook) oraz CBC (Cypher Clock Chaining)"
   ]
  },
  {
   "cell_type": "markdown",
   "id": "95a8facf",
   "metadata": {},
   "source": [
    "### ECB"
   ]
  },
  {
   "cell_type": "markdown",
   "id": "dcd6a2dd",
   "metadata": {},
   "source": [
    "#### Encryption"
   ]
  },
  {
   "cell_type": "code",
   "execution_count": 11,
   "id": "eab54718",
   "metadata": {},
   "outputs": [],
   "source": [
    "png = PNG(img_path)\n",
    "png_name = os.path.basename(img_path)\n",
    "crit_chunks = png.getCriticalChunks()\n",
    "anc_chunks = png.getAncillaryChunks()\n",
    "idat_chunks, crit_chunks_no_data = png.getDataChunks(crit_chunks)\n",
    "pubkey = keypair[0]\n",
    "\n",
    "encrypted_idat_chunks = []\n",
    "# Calculate max chunk size for your RSA key (e.g., 2048 bits, PKCS#1 v1.5 padding)\n",
    "key_bytes = (pubkey[0].bit_length() + 7) // 8\n",
    "max_chunk_size = key_bytes - 11  # for PKCS#1 v1.5 padding\n",
    "\n",
    "for idat in idat_chunks:\n",
    "    idat_data = idat[8:-4]\n",
    "    try:\n",
    "        decompressed_data = zlib.decompress(idat_data)\n",
    "    except zlib.error:\n",
    "        decompressed_data = idat_data\n",
    "\n",
    "    # Split data into chunks\n",
    "    chunks = [decompressed_data[i:i+max_chunk_size] for i in range(0, len(decompressed_data), max_chunk_size)]\n",
    "    encrypted_chunks = []\n",
    "    for chunk in chunks:\n",
    "        encrypted_chunk = RSA.encryptECB(chunk, pubkey)\n",
    "        length_bytes = len(chunk).to_bytes(4, 'big')\n",
    "        encrypted_chunks.append(length_bytes + encrypted_chunk)\n",
    "    encrypted_uncompressed = b''.join(encrypted_chunks)\n",
    "    encrypted_compressed = zlib.compress(encrypted_uncompressed)\n",
    "\n",
    "    idat_type = b'IDAT'\n",
    "    new_len = len(encrypted_compressed).to_bytes(4, 'big')\n",
    "    new_crc = struct.pack('>I', zlib.crc32(idat_type + encrypted_compressed))\n",
    "    new_chunk = new_len + idat_type + encrypted_compressed + new_crc\n",
    "\n",
    "    encrypted_idat_chunks.append(new_chunk)\n",
    "\n",
    "crit_chunks_no_data.insert(0, png.png_signature)\n",
    "for chunk in encrypted_idat_chunks + anc_chunks:\n",
    "    crit_chunks_no_data.insert(-1, chunk)\n",
    "all_chunks = crit_chunks_no_data\n",
    "\n",
    "encrypt_img_path = writeEncrypted(all_chunks, png_name, \"ECB\")\n",
    "keyfile = saveKeys(keypair, png_name, \"ECB\")"
   ]
  },
  {
   "cell_type": "markdown",
   "id": "5ada16b2",
   "metadata": {},
   "source": [
    "#### Decryption"
   ]
  },
  {
   "cell_type": "code",
   "execution_count": 12,
   "id": "4599d7d7",
   "metadata": {},
   "outputs": [],
   "source": [
    "keys = loadKeys(keyfile)\n",
    "privkey = keys[1]\n",
    "\n",
    "png = PNG(encrypt_img_path)\n",
    "png_name = os.path.basename(encrypt_img_path)\n",
    "crit_chunks = png.getCriticalChunks()\n",
    "anc_chunks = png.getAncillaryChunks()\n",
    "encrypted_idat_chunks, crit_chunks_no_data = png.getDataChunks(crit_chunks)\n",
    "\n",
    "decrypted_idat_chunks = []\n",
    "for chunk in encrypted_idat_chunks:\n",
    "    encrypted_data = zlib.decompress(chunk[8:-4])\n",
    "    decrypted_parts = []\n",
    "    offset = 0\n",
    "    while offset < len(encrypted_data):\n",
    "        chunk_len = int.from_bytes(encrypted_data[offset:offset+4], 'big')\n",
    "        offset += 4\n",
    "        encrypted_chunk = encrypted_data[offset:offset+key_bytes]\n",
    "        offset += key_bytes\n",
    "        decrypted_chunk = RSA.decryptECB(encrypted_chunk, privkey)\n",
    "        decrypted_parts.append(decrypted_chunk[:chunk_len])\n",
    "    decrypted_uncompressed = b''.join(decrypted_parts)\n",
    "    decrypted_compressed = zlib.compress(decrypted_uncompressed)\n",
    "\n",
    "    idat_type = b'IDAT'\n",
    "    new_len = len(decrypted_compressed).to_bytes(4, 'big')\n",
    "    new_crc = struct.pack('>I', zlib.crc32(idat_type + decrypted_compressed))\n",
    "    new_chunk = new_len + idat_type + decrypted_compressed + new_crc\n",
    "\n",
    "    decrypted_idat_chunks.append(new_chunk)\n",
    "\n",
    "crit_chunks_no_data.insert(0, png.png_signature)\n",
    "for chunk in decrypted_idat_chunks + anc_chunks:\n",
    "    crit_chunks_no_data.insert(-1, chunk)\n",
    "all_chunks = crit_chunks_no_data\n",
    "\n",
    "writeDecrypted(all_chunks, png_name)"
   ]
  },
  {
   "cell_type": "code",
   "execution_count": 13,
   "id": "ac6c0d7a",
   "metadata": {},
   "outputs": [
    {
     "name": "stdout",
     "output_type": "stream",
     "text": [
      "orig: 11261 encrypted: 54608 decrypted: 12815\n"
     ]
    }
   ],
   "source": [
    "for i, j, k in zip(idat_chunks, encrypted_idat_chunks, decrypted_idat_chunks):\n",
    "    print(f\"orig: {len(i)} encrypted: {len(j)} decrypted: {len(k)}\")"
   ]
  },
  {
   "cell_type": "markdown",
   "id": "ad4b77e6",
   "metadata": {},
   "source": [
    "### CBC"
   ]
  },
  {
   "cell_type": "markdown",
   "id": "71ec8e33",
   "metadata": {},
   "source": [
    "#### Encryption"
   ]
  },
  {
   "cell_type": "code",
   "execution_count": 14,
   "id": "66d800de",
   "metadata": {},
   "outputs": [],
   "source": [
    "png = PNG(img_path)\n",
    "png_name = os.path.basename(img_path)\n",
    "crit_chunks = png.getCriticalChunks()\n",
    "anc_chunks = png.getAncillaryChunks()\n",
    "idat_chunks, crit_chunks_no_data = png.getDataChunks(crit_chunks)\n",
    "pubkey = keypair[0]\n",
    "\n",
    "block_size = (pubkey[0].bit_length() + 7) // 8\n",
    "max_chunk_size = block_size - 11  # for PKCS#1 v1.5 padding\n",
    "\n",
    "# Generate IV for each file (or per chunk if you want)\n",
    "iv = random.randbytes(block_size)\n",
    "\n",
    "encrypted_idat_chunks = []\n",
    "for idat in idat_chunks:\n",
    "    idat_data = idat[8:-4]\n",
    "    try:\n",
    "        decompressed_data = zlib.decompress(idat_data)\n",
    "    except zlib.error:\n",
    "        decompressed_data = idat_data\n",
    "\n",
    "    # Split data into chunks\n",
    "    chunks = [decompressed_data[i:i+max_chunk_size] for i in range(0, len(decompressed_data), max_chunk_size)]\n",
    "    encrypted_chunks = []\n",
    "    prev = iv\n",
    "    for chunk in chunks:\n",
    "        encrypted_chunk = RSA.encryptCBC(chunk, pubkey, prev)\n",
    "        length_bytes = len(chunk).to_bytes(4, 'big')\n",
    "        encrypted_chunks.append(length_bytes + encrypted_chunk)\n",
    "        prev = encrypted_chunk  # CBC chaining\n",
    "\n",
    "    # Store IV at the start of the encrypted data for decryption\n",
    "    encrypted_uncompressed = iv + b''.join(encrypted_chunks)\n",
    "    encrypted_compressed = zlib.compress(encrypted_uncompressed)\n",
    "\n",
    "    idat_type = b'IDAT'\n",
    "    new_len = len(encrypted_compressed).to_bytes(4, 'big')\n",
    "    new_crc = struct.pack('>I', zlib.crc32(idat_type + encrypted_compressed))\n",
    "    new_chunk = new_len + idat_type + encrypted_compressed + new_crc\n",
    "\n",
    "    encrypted_idat_chunks.append(new_chunk)\n",
    "\n",
    "crit_chunks_no_data.insert(0, png.png_signature)\n",
    "for chunk in encrypted_idat_chunks + anc_chunks:\n",
    "    crit_chunks_no_data.insert(-1, chunk)\n",
    "all_chunks = crit_chunks_no_data\n",
    "\n",
    "encrypt_img_path = writeEncrypted(all_chunks, png_name, \"CBC\")\n",
    "keyfile = saveKeys(keypair, png_name, \"CBC\")\n"
   ]
  },
  {
   "cell_type": "markdown",
   "id": "59a1a7f8",
   "metadata": {},
   "source": [
    "#### Decryption"
   ]
  },
  {
   "cell_type": "code",
   "execution_count": 15,
   "id": "feff5e04",
   "metadata": {},
   "outputs": [],
   "source": [
    "keys = loadKeys(keyfile)\n",
    "privkey = keys[1]\n",
    "\n",
    "png = PNG(encrypt_img_path)\n",
    "png_name = os.path.basename(encrypt_img_path)\n",
    "crit_chunks = png.getCriticalChunks()\n",
    "anc_chunks = png.getAncillaryChunks()\n",
    "encrypted_idat_chunks, crit_chunks_no_data = png.getDataChunks(crit_chunks)\n",
    "\n",
    "decrypted_idat_chunks = []\n",
    "for chunk in encrypted_idat_chunks:\n",
    "    encrypted_data = zlib.decompress(chunk[8:-4])\n",
    "    iv = encrypted_data[:block_size]\n",
    "    offset = block_size\n",
    "    decrypted_parts = []\n",
    "    prev = iv\n",
    "    while offset < len(encrypted_data):\n",
    "        chunk_len = int.from_bytes(encrypted_data[offset:offset+4], 'big')\n",
    "        offset += 4\n",
    "        encrypted_chunk = encrypted_data[offset:offset+block_size]\n",
    "        offset += block_size\n",
    "        decrypted_chunk = RSA.decryptCBC(encrypted_chunk, privkey, prev)\n",
    "        decrypted_parts.append(decrypted_chunk[:chunk_len])\n",
    "        prev = encrypted_chunk  # CBC chaining\n",
    "\n",
    "    decrypted_uncompressed = b''.join(decrypted_parts)\n",
    "    decrypted_compressed = zlib.compress(decrypted_uncompressed)\n",
    "\n",
    "    idat_type = b'IDAT'\n",
    "    new_len = len(decrypted_compressed).to_bytes(4, 'big')\n",
    "    new_crc = struct.pack('>I', zlib.crc32(idat_type + decrypted_compressed))\n",
    "    new_chunk = new_len + idat_type + decrypted_compressed + new_crc\n",
    "\n",
    "    decrypted_idat_chunks.append(new_chunk)\n",
    "\n",
    "crit_chunks_no_data.insert(0, png.png_signature)\n",
    "for chunk in decrypted_idat_chunks + anc_chunks:\n",
    "    crit_chunks_no_data.insert(-1, chunk)\n",
    "all_chunks = crit_chunks_no_data\n",
    "\n",
    "writeDecrypted(all_chunks, png_name)"
   ]
  },
  {
   "cell_type": "markdown",
   "id": "1bd3660c",
   "metadata": {},
   "source": [
    "##### Data lengths check"
   ]
  },
  {
   "cell_type": "code",
   "execution_count": 16,
   "id": "5e81e4e8",
   "metadata": {},
   "outputs": [
    {
     "name": "stdout",
     "output_type": "stream",
     "text": [
      "orig: 11261 encrypted: 582758 decrypted: 12815\n"
     ]
    }
   ],
   "source": [
    "for i, j, k in zip(idat_chunks, encrypted_idat_chunks, decrypted_idat_chunks):\n",
    "    print(f\"orig: {len(i)} encrypted: {len(j)} decrypted: {len(k)}\")"
   ]
  },
  {
   "cell_type": "markdown",
   "id": "18efc654",
   "metadata": {},
   "source": [
    "## Porównanie z gotową implementacją RSA"
   ]
  },
  {
   "cell_type": "code",
   "execution_count": 17,
   "id": "0ba8db55",
   "metadata": {},
   "outputs": [],
   "source": [
    "\n",
    "# ----- Encryption -----\n",
    "\n",
    "# Generate RSA key using PyCrypto\n",
    "key = CryptoRSA.generate(2048)\n",
    "pubkey = key.publickey()\n",
    "\n",
    "# Process PNG chunks\n",
    "png = PNG(img_path)\n",
    "png_name = os.path.basename(img_path)\n",
    "crit_chunks = png.getCriticalChunks()\n",
    "anc_chunks = png.getAncillaryChunks()\n",
    "idat_chunks, crit_chunks_no_data = png.getDataChunks(crit_chunks)\n",
    "\n",
    "encrypted_idat_chunks = []\n",
    "for idat in idat_chunks:\n",
    "    idat_data = idat[8:-4]\n",
    "\n",
    "    # Try to decompress IDAT data (should work for standard PNGs)\n",
    "    try:\n",
    "        decompressed_data = zlib.decompress(idat_data)\n",
    "    except zlib.error:\n",
    "        decompressed_data = idat_data  # Use as-is if can't decompress\n",
    "\n",
    "    # Maximum size for PKCS1_OAEP with 2048-bit key is ~214 bytes\n",
    "    # Need to chunk the data for encryption\n",
    "    chunk_size = 214\n",
    "    chunks = [decompressed_data[i:i+chunk_size] for i in range(0, len(decompressed_data), chunk_size)]\n",
    "    \n",
    "    # Initialize the cipher\n",
    "    cipher = PKCS1_OAEP.new(pubkey)\n",
    "    \n",
    "    # Encrypt each chunk and concatenate\n",
    "    encrypted_chunks = []\n",
    "    for chunk in chunks:\n",
    "        encrypted_chunk = cipher.encrypt(chunk)\n",
    "        # Store length + encrypted data to help with decryption\n",
    "        length_bytes = len(chunk).to_bytes(4, 'big')\n",
    "        encrypted_chunks.append(length_bytes + encrypted_chunk)\n",
    "    \n",
    "    encrypted_uncompressed = b''.join(encrypted_chunks)\n",
    "    encrypted_compressed = zlib.compress(encrypted_uncompressed)\n",
    "\n",
    "    idat_type = b'IDAT'\n",
    "    new_len = len(encrypted_compressed).to_bytes(4, 'big')\n",
    "    new_crc = struct.pack('>I', zlib.crc32(idat_type + encrypted_compressed))\n",
    "    new_chunk = new_len + idat_type + encrypted_compressed + new_crc\n",
    "\n",
    "    encrypted_idat_chunks.append(new_chunk)\n",
    "\n",
    "# Reconstruct PNG with encrypted chunks\n",
    "crit_chunks_no_data.insert(0, png.png_signature)\n",
    "for chunk in encrypted_idat_chunks + anc_chunks:\n",
    "    crit_chunks_no_data.insert(-1, chunk)\n",
    "all_chunks = crit_chunks_no_data\n",
    "\n",
    "encrypt_img_path = writeEncrypted(all_chunks, png_name, \"Crypto\")\n",
    "keyfile = f\"Crypto_{png_name[:-4]}_key.pem\"\n",
    "with open(keyfile, \"wb\") as f:\n",
    "    f.write(key.export_key(\"PEM\"))"
   ]
  },
  {
   "cell_type": "code",
   "execution_count": 18,
   "id": "c70fe57e",
   "metadata": {},
   "outputs": [
    {
     "name": "stdout",
     "output_type": "stream",
     "text": [
      "Original: 11261 bytes | Encrypted: 101273 bytes | Decrypted: 12815 bytes\n"
     ]
    }
   ],
   "source": [
    "# ----- Decryption -----\n",
    "\n",
    "# Load the private key\n",
    "with open(keyfile, 'rb') as f:\n",
    "    key = CryptoRSA.import_key(f.read())\n",
    "\n",
    "# Process encrypted PNG\n",
    "png = PNG(encrypt_img_path)\n",
    "png_name = os.path.basename(encrypt_img_path)\n",
    "crit_chunks = png.getCriticalChunks()\n",
    "anc_chunks = png.getAncillaryChunks()\n",
    "encrypted_idat_chunks, crit_chunks_no_data = png.getDataChunks(crit_chunks)\n",
    "\n",
    "decrypted_idat_chunks = []\n",
    "for chunk in encrypted_idat_chunks:\n",
    "    # 1. Decompress the encrypted data\n",
    "    encrypted_data = zlib.decompress(chunk[8:-4])\n",
    "    \n",
    "    # 2. Initialize the decryption cipher\n",
    "    decipher = PKCS1_OAEP.new(key)\n",
    "    \n",
    "    # 3. Process encrypted chunks\n",
    "    decrypted_parts = []\n",
    "    offset = 0\n",
    "    while offset < len(encrypted_data):\n",
    "        # Read the original chunk length\n",
    "        chunk_len = int.from_bytes(encrypted_data[offset:offset+4], 'big')\n",
    "        offset += 4\n",
    "        \n",
    "        # The encrypted data is the next 256 bytes (for 2048-bit key)\n",
    "        encrypted_chunk = encrypted_data[offset:offset+256]\n",
    "        offset += 256\n",
    "        \n",
    "        # Decrypt the chunk\n",
    "        decrypted_chunk = decipher.decrypt(encrypted_chunk)\n",
    "        decrypted_parts.append(decrypted_chunk)\n",
    "    \n",
    "    # 4. Combine all decrypted parts\n",
    "    decrypted_uncompressed = b''.join(decrypted_parts)\n",
    "    \n",
    "    # 5. Compress the decrypted data to restore PNG format\n",
    "    decrypted_compressed = zlib.compress(decrypted_uncompressed)\n",
    "\n",
    "    idat_type = b'IDAT'\n",
    "    new_len = len(decrypted_compressed).to_bytes(4, 'big')\n",
    "    new_crc = struct.pack('>I', zlib.crc32(idat_type + decrypted_compressed))\n",
    "    new_chunk = new_len + idat_type + decrypted_compressed + new_crc\n",
    "\n",
    "    decrypted_idat_chunks.append(new_chunk)\n",
    "\n",
    "crit_chunks_no_data.insert(0, png.png_signature)\n",
    "for chunk in decrypted_idat_chunks + anc_chunks:\n",
    "    crit_chunks_no_data.insert(-1, chunk)\n",
    "all_chunks = crit_chunks_no_data\n",
    "\n",
    "decrypted_path = writeDecrypted(all_chunks, png_name)\n",
    "\n",
    "for i, j, k in zip(idat_chunks, encrypted_idat_chunks, decrypted_idat_chunks):\n",
    "    print(f\"Original: {len(i)} bytes | Encrypted: {len(j)} bytes | Decrypted: {len(k)} bytes\")"
   ]
  },
  {
   "cell_type": "markdown",
   "id": "ddcdf23f",
   "metadata": {},
   "source": [
    "## Porównanie plików"
   ]
  },
  {
   "cell_type": "code",
   "execution_count": 19,
   "id": "b4462f1e",
   "metadata": {},
   "outputs": [
    {
     "name": "stdout",
     "output_type": "stream",
     "text": [
      "File: dice.png\n",
      "Crit chunks: 3 Anc chunks: 0\n",
      "Crit chunk sizes: \n",
      "IHDR: 13\n",
      "IDAT: 179502\n",
      "IEND: 0\n",
      "File: test.png\n",
      "Crit chunks: 10 Anc chunks: 8\n",
      "Crit chunk sizes: \n",
      "IHDR: 13\n",
      "IDAT: 8192\n",
      "IDAT: 8192\n",
      "IDAT: 8192\n",
      "IDAT: 8192\n",
      "IDAT: 8192\n",
      "IDAT: 8192\n",
      "IDAT: 8192\n",
      "IDAT: 7564\n",
      "IEND: 0\n",
      "File: plte.png\n",
      "Crit chunks: 5 Anc chunks: 6\n",
      "Crit chunk sizes: \n",
      "IHDR: 13\n",
      "PLTE: 768\n",
      "IDAT: 8192\n",
      "IDAT: 2484\n",
      "IEND: 0\n"
     ]
    }
   ],
   "source": [
    "files = ['dice', 'test', 'plte']\n",
    "\n",
    "for file in files:\n",
    "    print(f\"File: {file}.png\")\n",
    "    png = PNG(f\"media/{file}.png\")\n",
    "    anc_chunks = png.getAncillaryChunks()\n",
    "    crit_chunks = png.getCriticalChunks()\n",
    "    print(f\"Crit chunks: {len(crit_chunks)} Anc chunks: {len(anc_chunks)}\")\n",
    "    print(\"Crit chunk sizes: \")\n",
    "    for chunk in crit_chunks:\n",
    "        data_len = int.from_bytes(chunk[:4])\n",
    "        chunk_type = chunk[4:8].decode('utf-8')\n",
    "        print(f\"{chunk_type}: {data_len}\")\n"
   ]
  }
 ],
 "metadata": {
  "kernelspec": {
   "display_name": "Python 3",
   "language": "python",
   "name": "python3"
  },
  "language_info": {
   "codemirror_mode": {
    "name": "ipython",
    "version": 3
   },
   "file_extension": ".py",
   "mimetype": "text/x-python",
   "name": "python",
   "nbconvert_exporter": "python",
   "pygments_lexer": "ipython3",
   "version": "3.12.6"
  }
 },
 "nbformat": 4,
 "nbformat_minor": 5
}
